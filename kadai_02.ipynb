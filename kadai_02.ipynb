{
 "cells": [
  {
   "cell_type": "markdown",
   "metadata": {},
   "source": [
    "# 機械学習実習 第2課題 (第6週から第10週:教師あり学習)\n"
   ]
  },
  {
   "cell_type": "code",
   "execution_count": 4,
   "metadata": {},
   "outputs": [],
   "source": [
    "#最初にインポートしている前提（教科書 p.11 ）  \n",
    "## 演習のipynbの最初に次の6行を記載しておきましょう．\n",
    "import numpy as np\n",
    "import matplotlib.pyplot as plt\n",
    "import pandas as pd\n",
    "import mglearn\n",
    "from IPython.display import display\n",
    "%matplotlib inline"
   ]
  },
  {
   "cell_type": "markdown",
   "metadata": {},
   "source": [
    "## 課題１"
   ]
  },
  {
   "cell_type": "markdown",
   "metadata": {},
   "source": [
    "### (1) 訓練データとテストデータに分ける必要がある理由を説明せよ"
   ]
  },
  {
   "cell_type": "markdown",
   "metadata": {},
   "source": [
    "解答:学習させた機械学習モデルが汎化できているか確認するために、学習を目的とした訓練データで学習させた後、テストデータでモデルを確認する必要があるから。"
   ]
  },
  {
   "cell_type": "markdown",
   "metadata": {},
   "source": [
    "###  (2) 「精度」(accuracy)はモデルを評価する指標の一つである。"
   ]
  },
  {
   "cell_type": "markdown",
   "metadata": {},
   "source": [
    "#### a) 精度を数式を使って説明せよ。 "
   ]
  },
  {
   "cell_type": "markdown",
   "metadata": {},
   "source": [
    "解答:  \n",
    "学習モデルでテストセットを予測したラベルとテストセットの正解ラベルが一致した回数をaとする。  \n",
    "テストセットの数をnとする。  \n",
    "$$\n",
    "精度= \\frac{100a}{n}\\quad\n",
    "$$\n",
    " (%)である。"
   ]
  },
  {
   "cell_type": "markdown",
   "metadata": {},
   "source": [
    "#### b) 精度以外の指標に何があるかを調べ、数式を使って説明せよ。"
   ]
  },
  {
   "cell_type": "markdown",
   "metadata": {},
   "source": [
    "解答:  \n",
    "k-分割交差検証    \n",
    "学習用データを K 個に分割して、K−1 個のデータセットで学習モデルを訓練して残り1個のデータセットでテストする、というのを K 回繰り返して各テスト結果の平均スコアを評価する手法  \n",
    "学習用データの数をnとする。\n",
    "分割して学習させたモデルでテストセットを予測したラベルとテストセットの正解ラベルが一致した回数を$$ a_i $$とする。\n",
    "  \n",
    "$$\n",
    "精度=\\frac{ \\sum_{i=1}^{n}\\frac{a_i}{\\frac{n}{k}\\quad}100 \\quad }{k}\\quad \n",
    "$$  \n",
    "\n",
    "$$\n",
    "=\\sum_{i=1}^{n}\\frac{a_i}{n}100 \\quad\n",
    "$$\n",
    "(%)である"
   ]
  },
  {
   "cell_type": "markdown",
   "metadata": {},
   "source": [
    "#### c) 多くの指標が必要となる理由を説明せよ。"
   ]
  },
  {
   "cell_type": "markdown",
   "metadata": {},
   "source": [
    "解答:  \n",
    "学習モデルを作成する際のデータ、学習方法の不備で、過剰適合した学習モデル、適合不足の学習モデルなどが作成され、多数の未見のデータに対して正確に予測できない学習モデルになってしまうことを防いで、より正確な学習モデルを評価するため"
   ]
  },
  {
   "cell_type": "markdown",
   "metadata": {},
   "source": [
    "### (3) scikit-learnでは，データを大文字のX, ラベルを小文字のyで表記する."
   ]
  },
  {
   "cell_type": "markdown",
   "metadata": {},
   "source": [
    "#### a) データ、ラベルとはそれぞれ何を意味しているのか?"
   ]
  },
  {
   "cell_type": "markdown",
   "metadata": {},
   "source": [
    "データ:  Inputされる情報  \n",
    "ラベル:  Inputされた情報(データ)を説明する情報であり、学習モデルにInputされた情報(データ)を渡した際、出力してほしい情報"
   ]
  },
  {
   "cell_type": "markdown",
   "metadata": {},
   "source": [
    "#### b)どうしてデータは大文字で表記し，ラベルは小文字で表記するのか、それぞれ簡単に説明せよ."
   ]
  },
  {
   "cell_type": "markdown",
   "metadata": {},
   "source": [
    "どうしてデータは大文字で表記するのか？:  \n",
    "データは行列(多次元情報)であり、数学の慣例で行列には大文字を用いるため"
   ]
  },
  {
   "cell_type": "markdown",
   "metadata": {},
   "source": [
    "##### ラベルは小文字で表記するのか?:  \n",
    "ラベルはベクトル(１次元情報)であり、数学の慣例でベクトルには小文字を用いるため"
   ]
  },
  {
   "cell_type": "markdown",
   "metadata": {},
   "source": [
    "## 課題２"
   ]
  },
  {
   "cell_type": "markdown",
   "metadata": {},
   "source": [
    "### (1)クラス分類問題と回帰問題の違いを説明せよ."
   ]
  },
  {
   "cell_type": "markdown",
   "metadata": {},
   "source": [
    "クラス分類問題と回帰問題の違いは、求める値が何らかの連続性があるかで区別できる。  \n",
    "クラス分類問題は、あらかじめ定められた選択肢の中からクラスラベルを予測することが目的である。例えば、ある文章の言語が何語であるかやあるメールがスパムメールであるか否かを分類することを目的としたタスクのことである。それらのタスクには、決まった正解が存在し値は不連続である。   \n",
    "回帰問題は、あるデータから連続値を予測することが目的である。例えば、ある人の年収を学歴と年齢と住所から予測したり、ある農家の収穫量を予測したりするタスクが挙げられる。年収の40,000ドル、40,001ドルといった連続性のある値を予測したいタスクを回帰問題と言える。"
   ]
  },
  {
   "cell_type": "markdown",
   "metadata": {},
   "source": [
    "### (2) k-近傍法によるクラス分類を，図を用いて説明せよ"
   ]
  },
  {
   "cell_type": "code",
   "execution_count": null,
   "metadata": {},
   "outputs": [],
   "source": []
  },
  {
   "cell_type": "markdown",
   "metadata": {},
   "source": [
    "### (3) p.38を参考に，irisデータセットをk-近傍法で分類するコードを書き，テストセットに対する精度を求めよ. "
   ]
  },
  {
   "cell_type": "code",
   "execution_count": 25,
   "metadata": {},
   "outputs": [],
   "source": [
    "# 学習用モデルをインポート\n",
    "from sklearn.model_selection import train_test_split\n",
    "#iris あやめのデータをインポート\n",
    "from sklearn.datasets import load_iris\n",
    "# データセットをデータとラベルに分ける\n",
    "X,y= load_iris(return_X_y=True)"
   ]
  },
  {
   "cell_type": "code",
   "execution_count": 26,
   "metadata": {},
   "outputs": [],
   "source": [
    "# データとラベルを訓練用とテスト用に分ける\n",
    "X_train,X_test,y_train,y_test= train_test_split(X,y,random_state=0)"
   ]
  },
  {
   "cell_type": "code",
   "execution_count": 28,
   "metadata": {},
   "outputs": [],
   "source": [
    "from sklearn.neighbors import KNeighborsClassifier\n",
    "# 近傍点の数を３にしてk-近傍法学習モデルを初期化\n",
    "clf = KNeighborsClassifier(n_neighbors=3)"
   ]
  },
  {
   "cell_type": "code",
   "execution_count": 29,
   "metadata": {},
   "outputs": [
    {
     "data": {
      "text/plain": [
       "KNeighborsClassifier(algorithm='auto', leaf_size=30, metric='minkowski',\n",
       "           metric_params=None, n_jobs=1, n_neighbors=3, p=2,\n",
       "           weights='uniform')"
      ]
     },
     "execution_count": 29,
     "metadata": {},
     "output_type": "execute_result"
    }
   ],
   "source": [
    "# 訓練データとラベルで学習させる\n",
    "clf.fit(X_train,y_train)"
   ]
  },
  {
   "cell_type": "code",
   "execution_count": 30,
   "metadata": {},
   "outputs": [
    {
     "name": "stdout",
     "output_type": "stream",
     "text": [
      "テストセットに対する予想値: [2 1 0 2 0 2 0 1 1 1 2 1 1 1 1 0 1 1 0 0 2 1 0 0 2 0 0 1 1 0 2 1 0 2 2 1 0\n",
      " 2]\n"
     ]
    }
   ],
   "source": [
    "# 学習させたモデルでテストデータからラベルを予想\n",
    "print(\"テストセットに対する予想値: {}\".format(clf.predict(X_test)))"
   ]
  },
  {
   "cell_type": "code",
   "execution_count": 31,
   "metadata": {},
   "outputs": [
    {
     "name": "stdout",
     "output_type": "stream",
     "text": [
      "テストセットの正解: [2 1 0 2 0 2 0 1 1 1 2 1 1 1 1 0 1 1 0 0 2 1 0 0 2 0 0 1 1 0 2 1 0 2 2 1 0\n",
      " 1]\n"
     ]
    }
   ],
   "source": [
    "# テストデータに対する実際のラベル\n",
    "print(\"テストセットの正解: {}\".format(y_test))"
   ]
  },
  {
   "cell_type": "code",
   "execution_count": 32,
   "metadata": {},
   "outputs": [
    {
     "name": "stdout",
     "output_type": "stream",
     "text": [
      "テストセットに対する精度: 0.9736842105263158\n"
     ]
    }
   ],
   "source": [
    "# 学習させたモデルによるテストデータから予想したラベルと実際の正解ラベルの一致率を求めている\n",
    "print(\"テストセットに対する精度: {}\".format(clf.score(X_test,y_test)))"
   ]
  },
  {
   "cell_type": "markdown",
   "metadata": {},
   "source": [
    "# 課題3"
   ]
  },
  {
   "cell_type": "markdown",
   "metadata": {},
   "source": [
    "### (1) 線形モデルによる回帰問題を，図を用いて説明せよ."
   ]
  },
  {
   "cell_type": "markdown",
   "metadata": {},
   "source": [
    "### (2) リッジ回帰やLasso回帰は，過剰適合を防ぐ事を目的に導入している(p.50)過剰適合について説明せよ"
   ]
  },
  {
   "cell_type": "markdown",
   "metadata": {},
   "source": [
    "### (3) p.48を参考に，"
   ]
  },
  {
   "cell_type": "markdown",
   "metadata": {},
   "source": [
    "#### irisのデータの'petal width (cm)'を他の3つのデータ'sepal length (cm)', 'sepal width (cm)', 'petal length (cm)' から推定する(回帰させる) コードを書け."
   ]
  },
  {
   "cell_type": "markdown",
   "metadata": {},
   "source": [
    "#### そして，訓練セットスコア，テストセットスコアを求めよ.なお，irisデータの中身は， iris_data.keys()で把握せよ."
   ]
  },
  {
   "cell_type": "markdown",
   "metadata": {},
   "source": []
  },
  {
   "cell_type": "code",
   "execution_count": null,
   "metadata": {},
   "outputs": [],
   "source": []
  },
  {
   "cell_type": "code",
   "execution_count": null,
   "metadata": {},
   "outputs": [],
   "source": []
  },
  {
   "cell_type": "code",
   "execution_count": null,
   "metadata": {},
   "outputs": [],
   "source": []
  },
  {
   "cell_type": "code",
   "execution_count": null,
   "metadata": {},
   "outputs": [],
   "source": []
  },
  {
   "cell_type": "code",
   "execution_count": null,
   "metadata": {},
   "outputs": [],
   "source": []
  },
  {
   "cell_type": "code",
   "execution_count": null,
   "metadata": {},
   "outputs": [],
   "source": []
  },
  {
   "cell_type": "code",
   "execution_count": null,
   "metadata": {},
   "outputs": [],
   "source": []
  },
  {
   "cell_type": "code",
   "execution_count": null,
   "metadata": {},
   "outputs": [],
   "source": []
  }
 ],
 "metadata": {
  "kernelspec": {
   "display_name": "Python 3",
   "language": "python",
   "name": "python3"
  },
  "language_info": {
   "codemirror_mode": {
    "name": "ipython",
    "version": 3
   },
   "file_extension": ".py",
   "mimetype": "text/x-python",
   "name": "python",
   "nbconvert_exporter": "python",
   "pygments_lexer": "ipython3",
   "version": "3.7.0"
  }
 },
 "nbformat": 4,
 "nbformat_minor": 2
}
