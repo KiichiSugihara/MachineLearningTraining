{
 "cells": [
  {
   "cell_type": "markdown",
   "metadata": {},
   "source": [
    "# 機械学習実習 第2課題 (第6週から第10週:教師あり学習)\n"
   ]
  },
  {
   "cell_type": "markdown",
   "metadata": {},
   "source": [
    "## 課題１"
   ]
  },
  {
   "cell_type": "markdown",
   "metadata": {},
   "source": [
    "### (1) 訓練データとテストデータに分ける必要がある理由を説明せよ"
   ]
  },
  {
   "cell_type": "markdown",
   "metadata": {},
   "source": [
    "解答:学習させた機械学習モデルが汎化できているか確認するために、学習を目的とした訓練データで学習させた後、テストデータでモデルを確認する必要があるから。"
   ]
  },
  {
   "cell_type": "markdown",
   "metadata": {},
   "source": [
    "###  (2) 「精度」(accuracy)はモデルを評価する指標の一つである。"
   ]
  },
  {
   "cell_type": "markdown",
   "metadata": {},
   "source": [
    "#### a) 精度を数式を使って説明せよ。 "
   ]
  },
  {
   "cell_type": "markdown",
   "metadata": {},
   "source": [
    "解答:  \n",
    "学習モデルでテストセットを予測したラベルとテストセットの正解ラベルが一致した回数をaとする。  \n",
    "テストセットの数をnとする。  \n",
    "$$\n",
    "精度= \\frac{100a}{n}\\quad\n",
    "$$\n",
    " (%)である。"
   ]
  },
  {
   "cell_type": "markdown",
   "metadata": {},
   "source": [
    "#### b) 精度以外の指標に何があるかを調べ、数式を使って説明せよ。"
   ]
  },
  {
   "cell_type": "markdown",
   "metadata": {},
   "source": [
    "解答:  \n",
    "k-分割交差検証    \n",
    "学習用データを K 個に分割して、K−1 個のデータセットで学習モデルを訓練して残り1個のデータセットでテストする、というのを K 回繰り返して各テスト結果の平均スコアを評価する手法  \n",
    "学習用データの数をnとする。\n",
    "分割して学習させたモデルでテストセットを予測したラベルとテストセットの正解ラベルが一致した回数を$$ a_i $$とする。\n",
    "  \n",
    "$$\n",
    "精度=\\frac{ \\sum_{i=1}^{n}\\frac{a_i}{\\frac{n}{k}\\quad}100 \\quad }{k}\\quad \n",
    "$$  \n",
    "\n",
    "$$\n",
    "=\\sum_{i=1}^{n}\\frac{a_i}{n}100 \\quad\n",
    "$$\n",
    "(%)である"
   ]
  },
  {
   "cell_type": "markdown",
   "metadata": {},
   "source": [
    "#### c) 多くの指標が必要となる理由を説明せよ。"
   ]
  },
  {
   "cell_type": "markdown",
   "metadata": {},
   "source": [
    "解答:  \n",
    "学習モデルを作成する際のデータ、学習方法の不備で、過剰適合した学習モデル、適合不足の学習モデルなどが作成され、多数の未見のデータに対して正確に予測できない学習モデルになってしまうことを防いで、より正確な学習モデルを評価するため"
   ]
  },
  {
   "cell_type": "markdown",
   "metadata": {},
   "source": [
    "### (3) scikit-learnでは，データを大文字のX, ラベルを小文字のyで表記する."
   ]
  },
  {
   "cell_type": "markdown",
   "metadata": {},
   "source": [
    "#### a) データ、ラベルとはそれぞれ何を意味しているのか?"
   ]
  },
  {
   "cell_type": "markdown",
   "metadata": {},
   "source": [
    "データ:  Inputされる情報  \n",
    "ラベル:  Inputされた情報(データ)を説明する情報であり、学習モデルにInputされた情報(データ)を渡した際、出力してほしい情報"
   ]
  },
  {
   "cell_type": "markdown",
   "metadata": {},
   "source": [
    "#### b)どうしてデータは大文字で表記し，ラベルは小文字で表記するのか、それぞれ簡単に説明せよ."
   ]
  },
  {
   "cell_type": "markdown",
   "metadata": {},
   "source": [
    "どうしてデータは大文字で表記するのか？:  \n",
    "データは行列(多次元情報)であり、数学の慣例で行列には大文字を用いるため"
   ]
  },
  {
   "cell_type": "markdown",
   "metadata": {},
   "source": [
    "##### ラベルは小文字で表記するのか?:  \n",
    "ラベルはベクトル(１次元情報)であり、数学の慣例でベクトルには小文字を用いるため"
   ]
  },
  {
   "cell_type": "markdown",
   "metadata": {},
   "source": [
    "## 課題２"
   ]
  },
  {
   "cell_type": "markdown",
   "metadata": {},
   "source": [
    "### (1)クラス分類問題と回帰問題の違いを説明せよ."
   ]
  },
  {
   "cell_type": "markdown",
   "metadata": {},
   "source": [
    "### (2) k-近傍法によるクラス分類を，図を用いて説明せよ"
   ]
  },
  {
   "cell_type": "markdown",
   "metadata": {},
   "source": [
    "### (3) p.38を参考に，irisデータセットをk-近傍法で分類するコードを書き，テストセットに対する精度を求めよ. "
   ]
  },
  {
   "cell_type": "markdown",
   "metadata": {},
   "source": [
    "#### (4) 余裕のある人への追加課題 cancer データセット(p.34)を用いて，がんの良性，悪性判定を行うコードを書き，       テストセットに対する精度を求めよ."
   ]
  },
  {
   "cell_type": "markdown",
   "metadata": {},
   "source": [
    "# 課題3"
   ]
  },
  {
   "cell_type": "markdown",
   "metadata": {},
   "source": [
    "### (1) 線形モデルによる回帰問題を，図を用いて説明せよ."
   ]
  },
  {
   "cell_type": "markdown",
   "metadata": {},
   "source": [
    "### (2) リッジ回帰やLasso回帰は，過剰適合を防ぐ事を目的に導入している(p.50)過剰適合について説明せよ"
   ]
  },
  {
   "cell_type": "markdown",
   "metadata": {},
   "source": [
    "### (3) p.48を参考に，"
   ]
  },
  {
   "cell_type": "markdown",
   "metadata": {},
   "source": [
    "#### irisのデータの'petal width (cm)'を他の3つのデータ'sepal length (cm)', 'sepal width (cm)', 'petal length (cm)' から推定する(回帰させる) コードを書け."
   ]
  },
  {
   "cell_type": "markdown",
   "metadata": {},
   "source": [
    "#### そして，訓練セットスコア，テストセットスコアを求めよ.なお，irisデータの中身は， iris_data.keys()で把握せよ."
   ]
  },
  {
   "cell_type": "markdown",
   "metadata": {},
   "source": []
  },
  {
   "cell_type": "markdown",
   "metadata": {},
   "source": []
  },
  {
   "cell_type": "markdown",
   "metadata": {},
   "source": []
  },
  {
   "cell_type": "markdown",
   "metadata": {},
   "source": []
  },
  {
   "cell_type": "markdown",
   "metadata": {},
   "source": []
  },
  {
   "cell_type": "markdown",
   "metadata": {},
   "source": []
  }
 ],
 "metadata": {
  "kernelspec": {
   "display_name": "Python 3",
   "language": "python",
   "name": "python3"
  },
  "language_info": {
   "codemirror_mode": {
    "name": "ipython",
    "version": 3
   },
   "file_extension": ".py",
   "mimetype": "text/x-python",
   "name": "python",
   "nbconvert_exporter": "python",
   "pygments_lexer": "ipython3",
   "version": "3.7.0"
  }
 },
 "nbformat": 4,
 "nbformat_minor": 2
}
