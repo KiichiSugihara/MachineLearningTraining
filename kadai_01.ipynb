{
 "cells": [
  {
   "cell_type": "markdown",
   "metadata": {},
   "source": [
    "# 機械学習実習 第一課題 (第3週から第5週:Python の使い方)\n"
   ]
  },
  {
   "cell_type": "markdown",
   "metadata": {},
   "source": [
    "#### 1) リスト の append と extend は何が違うか.実例を挙げて説明せよ"
   ]
  },
  {
   "cell_type": "markdown",
   "metadata": {},
   "source": [
    "append\n",
    "- list.append(x) リストの末尾に要素を一つ追加\n",
    "\n",
    "extend\n",
    "- list.extend(iterable) イテラブルのすべての要素を対象のリストに追加し、リストを拡張"
   ]
  },
  {
   "cell_type": "markdown",
   "metadata": {},
   "source": [
    "実例"
   ]
  },
  {
   "cell_type": "code",
   "execution_count": 27,
   "metadata": {},
   "outputs": [
    {
     "data": {
      "text/plain": [
       "(['apple', 'mikan', 'banana'],\n",
       " ['apple', 'mikan', 'b', 'a', 'n', 'a', 'n', 'a'])"
      ]
     },
     "execution_count": 27,
     "metadata": {},
     "output_type": "execute_result"
    }
   ],
   "source": [
    "fruitsA=[\"apple\",\"mikan\"]\n",
    "fruitsE=[\"apple\",\"mikan\"]\n",
    "#文字列 イテラブル(反復可能オブジェクト)\n",
    "fruit = \"banana\" \n",
    "\n",
    "#リストの末尾に文字列が追加される\n",
    "fruitsA.append(fruit)\n",
    "\n",
    "# 文字列fruitは、イテラブルなので展開されて１要素ずつリストに追加される。\n",
    "fruitsE.extend(fruit)\n",
    "\n",
    "fruitsA,fruitsE"
   ]
  },
  {
   "cell_type": "code",
   "execution_count": 28,
   "metadata": {},
   "outputs": [
    {
     "data": {
      "text/plain": [
       "(['apple', 'mikan', ['orange', 'kiwi']], ['apple', 'mikan', 'orange', 'kiwi'])"
      ]
     },
     "execution_count": 28,
     "metadata": {},
     "output_type": "execute_result"
    }
   ],
   "source": [
    "fruitsA=[\"apple\",\"mikan\"]\n",
    "fruitsE=[\"apple\",\"mikan\"]\n",
    "#リスト イテラブル(反復可能オブジェクト)\n",
    "newFruits=[\"orange\",\"kiwi\"] \n",
    "\n",
    "# リストの末尾にリストが展開されずに追加される\n",
    "fruitsA.append(newFruits)\n",
    "# リストnewFruitsはイテラブルなので１要素ずつリストに追加される\n",
    "fruitsE.extend(newFruits)\n",
    "fruitsA,fruitsE"
   ]
  },
  {
   "cell_type": "markdown",
   "metadata": {},
   "source": [
    "#### 2) 成績を記入した pandas のデータフレーム score がある."
   ]
  },
  {
   "cell_type": "code",
   "execution_count": 3,
   "metadata": {},
   "outputs": [],
   "source": [
    "import pandas as pd\n",
    "\n",
    "score =pd.DataFrame([ [\"浅田\",79,3,33],[\"今川\",75,70,22],[\"宇佐\",49,89,65],[\"江田\",99,47,5],[\"小野\",96,29,36],[\"加納\",94,88,45],[\"岸辺\",48,17,19],[\"倉田\",21,67,100],[\"剣持\",88,8,36]],columns=['名前','こくご','さんすう','えいご'])"
   ]
  },
  {
   "cell_type": "code",
   "execution_count": 4,
   "metadata": {},
   "outputs": [
    {
     "data": {
      "text/html": [
       "<div>\n",
       "<style scoped>\n",
       "    .dataframe tbody tr th:only-of-type {\n",
       "        vertical-align: middle;\n",
       "    }\n",
       "\n",
       "    .dataframe tbody tr th {\n",
       "        vertical-align: top;\n",
       "    }\n",
       "\n",
       "    .dataframe thead th {\n",
       "        text-align: right;\n",
       "    }\n",
       "</style>\n",
       "<table border=\"1\" class=\"dataframe\">\n",
       "  <thead>\n",
       "    <tr style=\"text-align: right;\">\n",
       "      <th></th>\n",
       "      <th>名前</th>\n",
       "      <th>こくご</th>\n",
       "      <th>さんすう</th>\n",
       "      <th>えいご</th>\n",
       "    </tr>\n",
       "  </thead>\n",
       "  <tbody>\n",
       "    <tr>\n",
       "      <th>0</th>\n",
       "      <td>浅田</td>\n",
       "      <td>79</td>\n",
       "      <td>3</td>\n",
       "      <td>33</td>\n",
       "    </tr>\n",
       "    <tr>\n",
       "      <th>1</th>\n",
       "      <td>今川</td>\n",
       "      <td>75</td>\n",
       "      <td>70</td>\n",
       "      <td>22</td>\n",
       "    </tr>\n",
       "    <tr>\n",
       "      <th>2</th>\n",
       "      <td>宇佐</td>\n",
       "      <td>49</td>\n",
       "      <td>89</td>\n",
       "      <td>65</td>\n",
       "    </tr>\n",
       "    <tr>\n",
       "      <th>3</th>\n",
       "      <td>江田</td>\n",
       "      <td>99</td>\n",
       "      <td>47</td>\n",
       "      <td>5</td>\n",
       "    </tr>\n",
       "    <tr>\n",
       "      <th>4</th>\n",
       "      <td>小野</td>\n",
       "      <td>96</td>\n",
       "      <td>29</td>\n",
       "      <td>36</td>\n",
       "    </tr>\n",
       "    <tr>\n",
       "      <th>5</th>\n",
       "      <td>加納</td>\n",
       "      <td>94</td>\n",
       "      <td>88</td>\n",
       "      <td>45</td>\n",
       "    </tr>\n",
       "    <tr>\n",
       "      <th>6</th>\n",
       "      <td>岸辺</td>\n",
       "      <td>48</td>\n",
       "      <td>17</td>\n",
       "      <td>19</td>\n",
       "    </tr>\n",
       "    <tr>\n",
       "      <th>7</th>\n",
       "      <td>倉田</td>\n",
       "      <td>21</td>\n",
       "      <td>67</td>\n",
       "      <td>100</td>\n",
       "    </tr>\n",
       "    <tr>\n",
       "      <th>8</th>\n",
       "      <td>剣持</td>\n",
       "      <td>88</td>\n",
       "      <td>8</td>\n",
       "      <td>36</td>\n",
       "    </tr>\n",
       "  </tbody>\n",
       "</table>\n",
       "</div>"
      ],
      "text/plain": [
       "   名前  こくご  さんすう  えいご\n",
       "0  浅田   79     3   33\n",
       "1  今川   75    70   22\n",
       "2  宇佐   49    89   65\n",
       "3  江田   99    47    5\n",
       "4  小野   96    29   36\n",
       "5  加納   94    88   45\n",
       "6  岸辺   48    17   19\n",
       "7  倉田   21    67  100\n",
       "8  剣持   88     8   36"
      ]
     },
     "execution_count": 4,
     "metadata": {},
     "output_type": "execute_result"
    }
   ],
   "source": [
    "score"
   ]
  },
  {
   "cell_type": "markdown",
   "metadata": {},
   "source": [
    "##### a) score を入力とし，第一正規型に変換する関数をかけ"
   ]
  },
  {
   "cell_type": "code",
   "execution_count": 5,
   "metadata": {},
   "outputs": [],
   "source": [
    "# score: pd.DataFrame([[],...],columns=['名前','classA'...])\n",
    "def firstNormalize(score):\n",
    "    scores=[]\n",
    "    for index , item in score.iterrows():\n",
    "        for i in range(len(item)-1):\n",
    "            scores.append([item[0],score.columns[i+1],item[i+1]])\n",
    "    return pd.DataFrame(scores,columns=['名前','科目名','点数'])"
   ]
  },
  {
   "cell_type": "code",
   "execution_count": 6,
   "metadata": {},
   "outputs": [
    {
     "data": {
      "text/html": [
       "<div>\n",
       "<style scoped>\n",
       "    .dataframe tbody tr th:only-of-type {\n",
       "        vertical-align: middle;\n",
       "    }\n",
       "\n",
       "    .dataframe tbody tr th {\n",
       "        vertical-align: top;\n",
       "    }\n",
       "\n",
       "    .dataframe thead th {\n",
       "        text-align: right;\n",
       "    }\n",
       "</style>\n",
       "<table border=\"1\" class=\"dataframe\">\n",
       "  <thead>\n",
       "    <tr style=\"text-align: right;\">\n",
       "      <th></th>\n",
       "      <th>名前</th>\n",
       "      <th>科目名</th>\n",
       "      <th>点数</th>\n",
       "    </tr>\n",
       "  </thead>\n",
       "  <tbody>\n",
       "    <tr>\n",
       "      <th>0</th>\n",
       "      <td>浅田</td>\n",
       "      <td>こくご</td>\n",
       "      <td>79</td>\n",
       "    </tr>\n",
       "    <tr>\n",
       "      <th>1</th>\n",
       "      <td>浅田</td>\n",
       "      <td>さんすう</td>\n",
       "      <td>3</td>\n",
       "    </tr>\n",
       "    <tr>\n",
       "      <th>2</th>\n",
       "      <td>浅田</td>\n",
       "      <td>えいご</td>\n",
       "      <td>33</td>\n",
       "    </tr>\n",
       "    <tr>\n",
       "      <th>3</th>\n",
       "      <td>今川</td>\n",
       "      <td>こくご</td>\n",
       "      <td>75</td>\n",
       "    </tr>\n",
       "    <tr>\n",
       "      <th>4</th>\n",
       "      <td>今川</td>\n",
       "      <td>さんすう</td>\n",
       "      <td>70</td>\n",
       "    </tr>\n",
       "    <tr>\n",
       "      <th>5</th>\n",
       "      <td>今川</td>\n",
       "      <td>えいご</td>\n",
       "      <td>22</td>\n",
       "    </tr>\n",
       "    <tr>\n",
       "      <th>6</th>\n",
       "      <td>宇佐</td>\n",
       "      <td>こくご</td>\n",
       "      <td>49</td>\n",
       "    </tr>\n",
       "    <tr>\n",
       "      <th>7</th>\n",
       "      <td>宇佐</td>\n",
       "      <td>さんすう</td>\n",
       "      <td>89</td>\n",
       "    </tr>\n",
       "    <tr>\n",
       "      <th>8</th>\n",
       "      <td>宇佐</td>\n",
       "      <td>えいご</td>\n",
       "      <td>65</td>\n",
       "    </tr>\n",
       "    <tr>\n",
       "      <th>9</th>\n",
       "      <td>江田</td>\n",
       "      <td>こくご</td>\n",
       "      <td>99</td>\n",
       "    </tr>\n",
       "    <tr>\n",
       "      <th>10</th>\n",
       "      <td>江田</td>\n",
       "      <td>さんすう</td>\n",
       "      <td>47</td>\n",
       "    </tr>\n",
       "    <tr>\n",
       "      <th>11</th>\n",
       "      <td>江田</td>\n",
       "      <td>えいご</td>\n",
       "      <td>5</td>\n",
       "    </tr>\n",
       "    <tr>\n",
       "      <th>12</th>\n",
       "      <td>小野</td>\n",
       "      <td>こくご</td>\n",
       "      <td>96</td>\n",
       "    </tr>\n",
       "    <tr>\n",
       "      <th>13</th>\n",
       "      <td>小野</td>\n",
       "      <td>さんすう</td>\n",
       "      <td>29</td>\n",
       "    </tr>\n",
       "    <tr>\n",
       "      <th>14</th>\n",
       "      <td>小野</td>\n",
       "      <td>えいご</td>\n",
       "      <td>36</td>\n",
       "    </tr>\n",
       "    <tr>\n",
       "      <th>15</th>\n",
       "      <td>加納</td>\n",
       "      <td>こくご</td>\n",
       "      <td>94</td>\n",
       "    </tr>\n",
       "    <tr>\n",
       "      <th>16</th>\n",
       "      <td>加納</td>\n",
       "      <td>さんすう</td>\n",
       "      <td>88</td>\n",
       "    </tr>\n",
       "    <tr>\n",
       "      <th>17</th>\n",
       "      <td>加納</td>\n",
       "      <td>えいご</td>\n",
       "      <td>45</td>\n",
       "    </tr>\n",
       "    <tr>\n",
       "      <th>18</th>\n",
       "      <td>岸辺</td>\n",
       "      <td>こくご</td>\n",
       "      <td>48</td>\n",
       "    </tr>\n",
       "    <tr>\n",
       "      <th>19</th>\n",
       "      <td>岸辺</td>\n",
       "      <td>さんすう</td>\n",
       "      <td>17</td>\n",
       "    </tr>\n",
       "    <tr>\n",
       "      <th>20</th>\n",
       "      <td>岸辺</td>\n",
       "      <td>えいご</td>\n",
       "      <td>19</td>\n",
       "    </tr>\n",
       "    <tr>\n",
       "      <th>21</th>\n",
       "      <td>倉田</td>\n",
       "      <td>こくご</td>\n",
       "      <td>21</td>\n",
       "    </tr>\n",
       "    <tr>\n",
       "      <th>22</th>\n",
       "      <td>倉田</td>\n",
       "      <td>さんすう</td>\n",
       "      <td>67</td>\n",
       "    </tr>\n",
       "    <tr>\n",
       "      <th>23</th>\n",
       "      <td>倉田</td>\n",
       "      <td>えいご</td>\n",
       "      <td>100</td>\n",
       "    </tr>\n",
       "    <tr>\n",
       "      <th>24</th>\n",
       "      <td>剣持</td>\n",
       "      <td>こくご</td>\n",
       "      <td>88</td>\n",
       "    </tr>\n",
       "    <tr>\n",
       "      <th>25</th>\n",
       "      <td>剣持</td>\n",
       "      <td>さんすう</td>\n",
       "      <td>8</td>\n",
       "    </tr>\n",
       "    <tr>\n",
       "      <th>26</th>\n",
       "      <td>剣持</td>\n",
       "      <td>えいご</td>\n",
       "      <td>36</td>\n",
       "    </tr>\n",
       "  </tbody>\n",
       "</table>\n",
       "</div>"
      ],
      "text/plain": [
       "    名前   科目名   点数\n",
       "0   浅田   こくご   79\n",
       "1   浅田  さんすう    3\n",
       "2   浅田   えいご   33\n",
       "3   今川   こくご   75\n",
       "4   今川  さんすう   70\n",
       "5   今川   えいご   22\n",
       "6   宇佐   こくご   49\n",
       "7   宇佐  さんすう   89\n",
       "8   宇佐   えいご   65\n",
       "9   江田   こくご   99\n",
       "10  江田  さんすう   47\n",
       "11  江田   えいご    5\n",
       "12  小野   こくご   96\n",
       "13  小野  さんすう   29\n",
       "14  小野   えいご   36\n",
       "15  加納   こくご   94\n",
       "16  加納  さんすう   88\n",
       "17  加納   えいご   45\n",
       "18  岸辺   こくご   48\n",
       "19  岸辺  さんすう   17\n",
       "20  岸辺   えいご   19\n",
       "21  倉田   こくご   21\n",
       "22  倉田  さんすう   67\n",
       "23  倉田   えいご  100\n",
       "24  剣持   こくご   88\n",
       "25  剣持  さんすう    8\n",
       "26  剣持   えいご   36"
      ]
     },
     "execution_count": 6,
     "metadata": {},
     "output_type": "execute_result"
    }
   ],
   "source": [
    "firstNormalize(score)"
   ]
  },
  {
   "cell_type": "markdown",
   "metadata": {},
   "source": [
    "##### b)score を入力とし，科目ごとの平均点，各人の平均点を 出力する関数を書け.その動作も記せ"
   ]
  },
  {
   "cell_type": "code",
   "execution_count": 19,
   "metadata": {},
   "outputs": [],
   "source": [
    "# score: pd.DataFrame([[],...],columns=['名前','classA'...])\n",
    "# return: [[class1Average,...],[people1Average,...]]\n",
    "def getScoreAverages(score):\n",
    "    classScores=[0,0,0]\n",
    "    peopleScores=[]\n",
    "    for index , item in score.iterrows():\n",
    "        # 国語、算数、英語\n",
    "        peopleScores.append((item[1]+item[2]+item[3])/3)\n",
    "        classScores[0]= classScores[0]+item[1]\n",
    "        classScores[1]= classScores[1]+item[2]\n",
    "        classScores[2]= classScores[2]+item[3]\n",
    "    classScores[0] = classScores[0] / len(peopleScores)\n",
    "    classScores[1] = classScores[1] / len(peopleScores)\n",
    "    classScores[2] = classScores[2] / len(peopleScores)\n",
    "    return [classScores,peopleScores]"
   ]
  },
  {
   "cell_type": "code",
   "execution_count": 20,
   "metadata": {},
   "outputs": [
    {
     "data": {
      "text/plain": [
       "[[72.11111111111111, 46.44444444444444, 40.111111111111114],\n",
       " [38.333333333333336,\n",
       "  55.666666666666664,\n",
       "  67.66666666666667,\n",
       "  50.333333333333336,\n",
       "  53.666666666666664,\n",
       "  75.66666666666667,\n",
       "  28.0,\n",
       "  62.666666666666664,\n",
       "  44.0]]"
      ]
     },
     "execution_count": 20,
     "metadata": {},
     "output_type": "execute_result"
    }
   ],
   "source": [
    "getScoreAverages(score)"
   ]
  },
  {
   "cell_type": "markdown",
   "metadata": {},
   "source": [
    "##### c) normalized を入力とし，科目ごとの平均点，各人の 平均点を出力する関数を書け.その動作も記せ"
   ]
  },
  {
   "cell_type": "markdown",
   "metadata": {},
   "source": [
    "##### d)さんすうが x 点以上の人数を出力する関数をかけ. その動作も記せ"
   ]
  },
  {
   "cell_type": "code",
   "execution_count": null,
   "metadata": {},
   "outputs": [],
   "source": []
  },
  {
   "cell_type": "markdown",
   "metadata": {},
   "source": [
    "##### e) score に総合点の列を加えるスクリプトをかけ."
   ]
  },
  {
   "cell_type": "code",
   "execution_count": null,
   "metadata": {},
   "outputs": [],
   "source": []
  },
  {
   "cell_type": "markdown",
   "metadata": {},
   "source": [
    "##### f) 総合点の降順に並び替え，変数 final に格納せよ."
   ]
  },
  {
   "cell_type": "code",
   "execution_count": null,
   "metadata": {},
   "outputs": [],
   "source": []
  },
  {
   "cell_type": "markdown",
   "metadata": {},
   "source": [
    "##### g)scoreをグラフ化せよ.#matplotlib.pyplot 以外を利用し ても良い."
   ]
  },
  {
   "cell_type": "code",
   "execution_count": null,
   "metadata": {},
   "outputs": [],
   "source": []
  },
  {
   "cell_type": "markdown",
   "metadata": {},
   "source": [
    "##### h) 次の3つのメソッドの違いを説明せよ. Pandas のメソッド apply, applymap， Pandas.Series のメソッド map"
   ]
  },
  {
   "cell_type": "code",
   "execution_count": null,
   "metadata": {},
   "outputs": [],
   "source": [
    "apply"
   ]
  },
  {
   "cell_type": "code",
   "execution_count": null,
   "metadata": {},
   "outputs": [],
   "source": [
    "applymap"
   ]
  },
  {
   "cell_type": "code",
   "execution_count": null,
   "metadata": {},
   "outputs": [],
   "source": [
    "map"
   ]
  },
  {
   "cell_type": "markdown",
   "metadata": {},
   "source": [
    "#### 3) 引数を1つ持つ関数 fib(n) は，以下の式で定義される an を出力する."
   ]
  },
  {
   "cell_type": "markdown",
   "metadata": {},
   "source": [
    "##### a1 =1,a2 =1, an =an-1 +an-2 (n>2)\n",
    "関数 fib(n) を実装せよ."
   ]
  },
  {
   "cell_type": "markdown",
   "metadata": {},
   "source": [
    "#### 4) 拡張課題: 以下のプログラムを作成せよ."
   ]
  },
  {
   "cell_type": "markdown",
   "metadata": {},
   "source": [
    "a) 地球上の2点間の距離を求める関数を作成せよ.\n",
    "関数名: dist\n",
    "引数: x,y\n",
    "x と y の間の距離を求める"
   ]
  },
  {
   "cell_type": "markdown",
   "metadata": {},
   "source": [
    "##### b)出発地と目的地の二列からなるCSVファイルを読み込み，距離の列を追加する関数を関数 dist を使って書け"
   ]
  },
  {
   "cell_type": "markdown",
   "metadata": {},
   "source": [
    "##### c) 上記関数 dist や 2)で作成した関数を使った応用事例を提示し，結果を示せ.なお，できる限りプログラムで処理すること."
   ]
  },
  {
   "cell_type": "code",
   "execution_count": null,
   "metadata": {},
   "outputs": [],
   "source": []
  },
  {
   "cell_type": "code",
   "execution_count": null,
   "metadata": {},
   "outputs": [],
   "source": []
  }
 ],
 "metadata": {
  "kernelspec": {
   "display_name": "Python 3",
   "language": "python",
   "name": "python3"
  },
  "language_info": {
   "codemirror_mode": {
    "name": "ipython",
    "version": 3
   },
   "file_extension": ".py",
   "mimetype": "text/x-python",
   "name": "python",
   "nbconvert_exporter": "python",
   "pygments_lexer": "ipython3",
   "version": "3.7.0"
  }
 },
 "nbformat": 4,
 "nbformat_minor": 4
}
