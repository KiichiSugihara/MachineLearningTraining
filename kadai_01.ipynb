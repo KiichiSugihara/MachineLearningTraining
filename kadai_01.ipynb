{
 "cells": [
  {
   "cell_type": "markdown",
   "metadata": {},
   "source": [
    "# 機械学習実習 第一課題 (第3週から第5週:Python の使い方)\n"
   ]
  },
  {
   "cell_type": "markdown",
   "metadata": {},
   "source": [
    "#### 1) リスト の append と extend は何が違うか.実例を挙げて説明せよ"
   ]
  },
  {
   "cell_type": "markdown",
   "metadata": {},
   "source": [
    "append\n",
    "- list.append(x) リストの末尾に要素を一つ追加\n",
    "\n",
    "extend\n",
    "- list.extend(iterable) イテラブルのすべての要素を対象のリストに追加し、リストを拡張"
   ]
  },
  {
   "cell_type": "markdown",
   "metadata": {},
   "source": [
    "実例"
   ]
  },
  {
   "cell_type": "code",
   "execution_count": 27,
   "metadata": {},
   "outputs": [
    {
     "data": {
      "text/plain": [
       "(['apple', 'mikan', 'banana'],\n",
       " ['apple', 'mikan', 'b', 'a', 'n', 'a', 'n', 'a'])"
      ]
     },
     "execution_count": 27,
     "metadata": {},
     "output_type": "execute_result"
    }
   ],
   "source": [
    "fruitsA=[\"apple\",\"mikan\"]\n",
    "fruitsE=[\"apple\",\"mikan\"]\n",
    "#文字列 イテラブル(反復可能オブジェクト)\n",
    "fruit = \"banana\" \n",
    "\n",
    "#リストの末尾に文字列が追加される\n",
    "fruitsA.append(fruit)\n",
    "\n",
    "# 文字列fruitは、イテラブルなので展開されて１要素ずつリストに追加される。\n",
    "fruitsE.extend(fruit)\n",
    "\n",
    "fruitsA,fruitsE"
   ]
  },
  {
   "cell_type": "code",
   "execution_count": 28,
   "metadata": {},
   "outputs": [
    {
     "data": {
      "text/plain": [
       "(['apple', 'mikan', ['orange', 'kiwi']], ['apple', 'mikan', 'orange', 'kiwi'])"
      ]
     },
     "execution_count": 28,
     "metadata": {},
     "output_type": "execute_result"
    }
   ],
   "source": [
    "fruitsA=[\"apple\",\"mikan\"]\n",
    "fruitsE=[\"apple\",\"mikan\"]\n",
    "#リスト イテラブル(反復可能オブジェクト)\n",
    "newFruits=[\"orange\",\"kiwi\"] \n",
    "\n",
    "# リストの末尾にリストが展開されずに追加される\n",
    "fruitsA.append(newFruits)\n",
    "# リストnewFruitsはイテラブルなので１要素ずつリストに追加される\n",
    "fruitsE.extend(newFruits)\n",
    "fruitsA,fruitsE"
   ]
  },
  {
   "cell_type": "markdown",
   "metadata": {},
   "source": [
    "#### 2) 成績を記入した pandas のデータフレーム score がある."
   ]
  },
  {
   "cell_type": "markdown",
   "metadata": {},
   "source": [
    "score =[ [\"浅田\",79,3,33],[\"今川\",75,70,22],[\"宇佐\",49,89,65],[\"江田\",99,47,5],[\"小野\",96,29,36],[\"加納\",94,88,45],[\"岸辺\",48,17,19],[\"倉田\",21,67,100],[\"剣持\",88,8,36]]"
   ]
  },
  {
   "cell_type": "markdown",
   "metadata": {},
   "source": [
    "##### a) score を入力とし，第一正規型に変換する関数をかけ"
   ]
  },
  {
   "cell_type": "code",
   "execution_count": null,
   "metadata": {},
   "outputs": [],
   "source": [
    "def firstNormalize(){\n",
    "    \n",
    "}"
   ]
  },
  {
   "cell_type": "code",
   "execution_count": null,
   "metadata": {},
   "outputs": [],
   "source": [
    "firstNormalize(score)"
   ]
  },
  {
   "cell_type": "markdown",
   "metadata": {},
   "source": [
    "##### b)score を入力とし，科目ごとの平均点，各人の平均点を 出力する関数を書け.その動作も記せ"
   ]
  },
  {
   "cell_type": "markdown",
   "metadata": {},
   "source": [
    "##### c) normalized を入力とし，科目ごとの平均点，各人の 平均点を出力する関数を書け.その動作も記せ"
   ]
  },
  {
   "cell_type": "markdown",
   "metadata": {},
   "source": [
    "##### d)さんすうが x 点以上の人数を出力する関数をかけ. その動作も記せ"
   ]
  },
  {
   "cell_type": "markdown",
   "metadata": {},
   "source": [
    "##### a) score を入力とし，第一正規型に変換する関数をかけ"
   ]
  },
  {
   "cell_type": "markdown",
   "metadata": {},
   "source": [
    "##### e) score に総合点の列を加えるスクリプトをかけ."
   ]
  },
  {
   "cell_type": "markdown",
   "metadata": {},
   "source": [
    "##### f) 総合点の降順に並び替え，変数 final に格納せよ."
   ]
  },
  {
   "cell_type": "markdown",
   "metadata": {},
   "source": [
    "##### g)scoreをグラフ化せよ.#matplotlib.pyplot 以外を利用し ても良い."
   ]
  },
  {
   "cell_type": "markdown",
   "metadata": {},
   "source": [
    "##### h) 次の3つのメソッドの違いを説明せよ. Pandas のメソッド apply, applymap， Pandas.Series のメソッド map"
   ]
  },
  {
   "cell_type": "markdown",
   "metadata": {},
   "source": [
    "#### 3) 引数を1つ持つ関数 fib(n) は，以下の式で定義される an を出力する."
   ]
  },
  {
   "cell_type": "markdown",
   "metadata": {},
   "source": [
    "##### a1 =1,a2 =1, an =an-1 +an-2 (n>2)\n",
    "関数 fib(n) を実装せよ."
   ]
  },
  {
   "cell_type": "markdown",
   "metadata": {},
   "source": [
    "#### 4) 拡張課題: 以下のプログラムを作成せよ."
   ]
  },
  {
   "cell_type": "markdown",
   "metadata": {},
   "source": [
    "a) 地球上の2点間の距離を求める関数を作成せよ.\n",
    "関数名: dist\n",
    "引数: x,y\n",
    "x と y の間の距離を求める"
   ]
  },
  {
   "cell_type": "markdown",
   "metadata": {},
   "source": [
    "##### b)出発地と目的地の二列からなるCSVファイルを読み込み，距離の列を追加する関数を関数 dist を使って書け"
   ]
  },
  {
   "cell_type": "markdown",
   "metadata": {},
   "source": [
    "##### c) 上記関数 dist や 2)で作成した関数を使った応用事例を提示し，結果を示せ.なお，できる限りプログラムで処理すること."
   ]
  },
  {
   "cell_type": "code",
   "execution_count": null,
   "metadata": {},
   "outputs": [],
   "source": []
  },
  {
   "cell_type": "code",
   "execution_count": null,
   "metadata": {},
   "outputs": [],
   "source": []
  }
 ],
 "metadata": {
  "kernelspec": {
   "display_name": "Python 3",
   "language": "python",
   "name": "python3"
  },
  "language_info": {
   "codemirror_mode": {
    "name": "ipython",
    "version": 3
   },
   "file_extension": ".py",
   "mimetype": "text/x-python",
   "name": "python",
   "nbconvert_exporter": "python",
   "pygments_lexer": "ipython3",
   "version": "3.7.0"
  }
 },
 "nbformat": 4,
 "nbformat_minor": 4
}
