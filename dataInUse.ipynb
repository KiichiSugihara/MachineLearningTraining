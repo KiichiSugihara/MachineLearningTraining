{
 "cells": [
  {
   "cell_type": "markdown",
   "metadata": {},
   "source": [
    "# 授業で利用するデータ"
   ]
  },
  {
   "cell_type": "markdown",
   "metadata": {},
   "source": [
    "1. 教科書記載の演習準備： (p.11)  最初にインポートしている事\n",
    "    1. mglearn のインストール(p.11)\n",
    "    1. 演習時，notebookの最初に記載する6行\n",
    "1. iris あやめ （判別）　　(p.13)　\n",
    "1. forge 合成データ  (判別）　　　　(p.31)\n",
    "1. wave 波形データ　  (回帰)　　　(p.32)\n",
    "1. cancer （判別）　　　(p.33)　\n",
    "1. boston_housig (p.35)  \n",
    "1. blobs (多クラス分類) (p.64)\n",
    "1. two_moons (判別)  (p.71初出：　import法はp.171)"
   ]
  },
  {
   "cell_type": "markdown",
   "metadata": {},
   "source": [
    "## mglearn  \n",
    "\n",
    "教科書のプログラムを全部ダウンロードする方法\n",
    "\n",
    "1. 下記サイトよりダウンロードできる．\n",
    "    GitHub  https://github.com/amueller/introduction_to_ml_with_python\n",
    "\n",
    "1. 緑色の「clone or download」をクリックして，ダウンロードする．\n",
    "1. ダウンロードした，　introduction_to_ml_with_python-master.zip を解凍する．\n",
    "1. 解凍した後， ファイルを全部， jupyter notebook の実行フォルダに移動させる．\n",
    "    プログラムと同じディレクトリに移動させる，という事．\n",
    "1. 中身をみたら教科書の内容が載ってます。 "
   ]
  },
  {
   "cell_type": "code",
   "execution_count": null,
   "metadata": {},
   "outputs": [],
   "source": [
    "#pip で mglearn　をインストールする　\n",
    "!pip install mglearn"
   ]
  },
  {
   "cell_type": "code",
   "execution_count": null,
   "metadata": {},
   "outputs": [],
   "source": [
    "#最初にインポートしている前提（教科書 p.11 ）  \n",
    "## 演習のipynbの最初に次の6行を記載しておきましょう．\n",
    "import numpy as np\n",
    "import matplotlib.pyplot as plt\n",
    "import pandas as pd\n",
    "import mglearn\n",
    "from IPython.display import display\n",
    "%matplotlib inline"
   ]
  },
  {
   "cell_type": "markdown",
   "metadata": {},
   "source": [
    "## iris"
   ]
  },
  {
   "cell_type": "code",
   "execution_count": null,
   "metadata": {},
   "outputs": [],
   "source": [
    "#iris あやめのデータ：　ソフトウェア実習でも利用\n",
    "## 教科書　1.7 \n",
    "from sklearn.datasets import load_iris\n",
    "iris_dataset = load_iris()\n",
    "#Bunch クラスのオブジェクト：　辞書みたいな感じ．　利用法は，1.7.1 に書いてある．"
   ]
  },
  {
   "cell_type": "markdown",
   "metadata": {},
   "source": [
    "## forge"
   ]
  },
  {
   "cell_type": "code",
   "execution_count": null,
   "metadata": {},
   "outputs": [],
   "source": [
    "# generate dataset\n",
    "X, y = mglearn.datasets.make_forge()   #警告出ますが，気にしないでおきましょう\n",
    "# plot dataset\n",
    "mglearn.discrete_scatter(X[:, 0], X[:, 1], y)\n",
    "plt.legend([\"Class 0\", \"Class 1\"], loc=4)\n",
    "plt.xlabel(\"First feature\")\n",
    "plt.ylabel(\"Second feature\")\n",
    "print(\"X.shape:\", X.shape)"
   ]
  },
  {
   "cell_type": "markdown",
   "metadata": {},
   "source": [
    "## wave (p.32)\n",
    "\n"
   ]
  },
  {
   "cell_type": "code",
   "execution_count": null,
   "metadata": {},
   "outputs": [],
   "source": [
    "X,y = mglearn.datasets.make_wave(n_samples=40)\n",
    "plt.plot(X, y, 'o')\n",
    "plt.ylim(-3, 3)\n",
    "plt.xlabel(\"Feature\")\n",
    "plt.ylabel(\"Target\")"
   ]
  },
  {
   "cell_type": "markdown",
   "metadata": {},
   "source": [
    "## cancer (p.33)"
   ]
  },
  {
   "cell_type": "code",
   "execution_count": null,
   "metadata": {},
   "outputs": [],
   "source": [
    "from sklearn.datasets import load_breast_cancer\n",
    "cancer = load_breast_cancer()\n",
    "print(\"cancer.keys(): \\n{}\".format(cancer.keys()))"
   ]
  },
  {
   "cell_type": "markdown",
   "metadata": {},
   "source": [
    "## boston_housing(p.35)"
   ]
  },
  {
   "cell_type": "code",
   "execution_count": null,
   "metadata": {},
   "outputs": [],
   "source": [
    "X,y = mglearn.datasets.load_extended_boston()\n",
    "print(\"X.shape: {}\".format(X.shape))"
   ]
  },
  {
   "cell_type": "markdown",
   "metadata": {},
   "source": [
    "## blobs (p.64)"
   ]
  },
  {
   "cell_type": "code",
   "execution_count": null,
   "metadata": {},
   "outputs": [],
   "source": [
    "from sklearn.datasets import make_blobs\n",
    "X,y = make_blobs(random_state=42)\n",
    "mglearn.discrete_scatter(X[:,0],X[:,1],y)\n",
    "plt.xlabel(\"Feature 0\")\n",
    "plt.ylabel(\"Feature 1\")\n",
    "plt.legend([\"Class 0\",\"Class 1\",\"Class2\"])\n"
   ]
  },
  {
   "cell_type": "markdown",
   "metadata": {},
   "source": [
    "## twomoon"
   ]
  },
  {
   "cell_type": "code",
   "execution_count": null,
   "metadata": {},
   "outputs": [],
   "source": [
    "# p. 71のデータ\n",
    "from sklearn.datasets import make_moons\n",
    "X,y = make_moons(n_samples=100,noise=0.25, random_state=3)\n",
    "mglearn.discrete_scatter(X[:,0],X[:,1],y)"
   ]
  },
  {
   "cell_type": "code",
   "execution_count": null,
   "metadata": {},
   "outputs": [],
   "source": [
    "#p.171, p.175のデータ\n",
    "from sklearn.datasets import make_moons\n",
    "X,y = make_moons(n_samples=200,noise=0.05, random_state=0)\n",
    "mglearn.discrete_scatter(X[:,0],X[:,1],y)"
   ]
  },
  {
   "cell_type": "code",
   "execution_count": null,
   "metadata": {},
   "outputs": [],
   "source": []
  },
  {
   "cell_type": "code",
   "execution_count": null,
   "metadata": {},
   "outputs": [],
   "source": []
  }
 ],
 "metadata": {
  "kernelspec": {
   "display_name": "Python 3",
   "language": "python",
   "name": "python3"
  },
  "language_info": {
   "codemirror_mode": {
    "name": "ipython",
    "version": 3
   },
   "file_extension": ".py",
   "mimetype": "text/x-python",
   "name": "python",
   "nbconvert_exporter": "python",
   "pygments_lexer": "ipython3",
   "version": "3.7.4"
  }
 },
 "nbformat": 4,
 "nbformat_minor": 2
}
