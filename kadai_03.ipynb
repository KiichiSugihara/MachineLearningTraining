{
 "cells": [
  {
   "cell_type": "markdown",
   "metadata": {},
   "source": [
    "# 機械学習実習 3回課題"
   ]
  },
  {
   "cell_type": "code",
   "execution_count": 2,
   "metadata": {},
   "outputs": [],
   "source": [
    "#最初にインポートしている前提（教科書 p.11 ）  \n",
    "## 演習のipynbの最初に次の6行を記載しておきましょう．\n",
    "import numpy as np\n",
    "import matplotlib.pyplot as plt\n",
    "import pandas as pd\n",
    "import mglearn\n",
    "from IPython.display import display\n",
    "from sklearn.datasets import load_iris\n",
    "\n",
    "# cancer後で消す\n",
    "from sklearn.datasets import load_breast_cancer\n",
    "cancer = load_breast_cancer()\n",
    "%matplotlib inline"
   ]
  },
  {
   "cell_type": "markdown",
   "metadata": {},
   "source": [
    "## 課題1"
   ]
  },
  {
   "cell_type": "markdown",
   "metadata": {},
   "source": [
    "### (1) 教師あり学習と教師なし学習について以下の問に答えよ"
   ]
  },
  {
   "cell_type": "markdown",
   "metadata": {},
   "source": [
    "#### a) 教師とは何か?"
   ]
  },
  {
   "cell_type": "markdown",
   "metadata": {},
   "source": [
    "機械学習において、あるモデルを学習させる際、入力値に対する出力値があらかじめ決まったものを訓練データとして用いて、モデルを学習させる。この時の、あらかじめ決まった入力値と出力値のデータセットを教師という。"
   ]
  },
  {
   "cell_type": "markdown",
   "metadata": {},
   "source": [
    "#### b) 教師あり学習と教師なし学習は何が違うのか，以下の問に答えよ"
   ]
  },
  {
   "cell_type": "markdown",
   "metadata": {},
   "source": [
    "##### b-1)教師あり学習ができるデータで，教師なし学習はできるか? Yes/No "
   ]
  },
  {
   "cell_type": "markdown",
   "metadata": {},
   "source": [
    "- Yes \n",
    "- 理由: 教師なし学習は、入力データとなるデータさえあれば実行可能であるため。"
   ]
  },
  {
   "cell_type": "markdown",
   "metadata": {},
   "source": [
    "##### b-2)教師なし学習ができるデータで，教師あり学習はできるか? Yes/No "
   ]
  },
  {
   "cell_type": "markdown",
   "metadata": {},
   "source": [
    "- No\n",
    "- 理由: 教師あり学習は、入力値のデータと入力値のデータから得られるラベル情報を入力値として必要とする学習方法であるが、教師なし学習で必要な入力値は単なるデータ群だけでよく、教師あり学習に必要な入力値を満たさないから。"
   ]
  },
  {
   "cell_type": "markdown",
   "metadata": {},
   "source": [
    "##### b-3)以上を踏まえ，教師あり学習と教師なし学習について説明せよ."
   ]
  },
  {
   "cell_type": "markdown",
   "metadata": {},
   "source": [
    "- 教師あり学習は、入力データに対して、求められる出力データが予め、ある程度決まっており、入出力が予め分かっている訓練データを用いてモデルを学習させ、訓練データとは違う入力データから出力を予想する学習方法である。\n",
    "- 一方で、教師なし学習は入力データに対して、求められる出力が特に決まっていなく、与えられた入力データから、似たデータを分類したり、たくさんの特徴量から少量の本質的な特徴量にデータを削減したりする学習方法である。"
   ]
  },
  {
   "cell_type": "markdown",
   "metadata": {},
   "source": [
    "#### c) 教師あり学習の手法を2つ挙げよ."
   ]
  },
  {
   "cell_type": "markdown",
   "metadata": {},
   "source": [
    "- k-近傍法によるクラス分類\n",
    "- 線形モデルによる回帰"
   ]
  },
  {
   "cell_type": "markdown",
   "metadata": {},
   "source": [
    "#### d) 教師なし学習の手法を2つ挙げよ.(この問は，第 12 週以降の内容を含む) "
   ]
  },
  {
   "cell_type": "markdown",
   "metadata": {},
   "source": [
    "- PCA\n",
    "- k-means クラスタリング"
   ]
  },
  {
   "cell_type": "markdown",
   "metadata": {},
   "source": [
    "### (2) 3.4.1.1 で用いている cancer データセットを Iris データセットに交換し，PCA による解析実行せよ"
   ]
  },
  {
   "cell_type": "markdown",
   "metadata": {},
   "source": [
    "#### a) 図 3.4 のようなヒストグラムを描き，コマンドと図をレポートに貼り付けよ."
   ]
  },
  {
   "cell_type": "code",
   "execution_count": 6,
   "metadata": {},
   "outputs": [
    {
     "data": {
      "image/png": "[encoded data removed]",
      "text/plain": [
       "<Figure size 360x360 with 4 Axes>"
      ]
     },
     "metadata": {
      "needs_background": "light"
     },
     "output_type": "display_data"
    }
   ],
   "source": [
    "iris_dataset = load_iris()\n",
    "# irisの特徴量は4つなので、 2*2でちょうどいい\n",
    "fig, axes = plt.subplots(2, 2, figsize=(5, 5)) \n",
    "# irisのクラスは3クラス\n",
    "setosa = iris_dataset.data[iris_dataset.target == 0] \n",
    "versicolor = iris_dataset.data[iris_dataset.target == 1]\n",
    "virginica = iris_dataset.data[iris_dataset.target == 2]\n",
    "ax = axes.ravel()\n",
    "\n",
    "for i in range(4):\n",
    "    _, bins=np.histogram(iris_dataset.data[:,i],bins=50)\n",
    "    ax[i].hist(setosa[:, i], bins=bins, color=mglearn.cm3(0), alpha=.5)\n",
    "    ax[i].hist(versicolor[:, i], bins=bins, color=mglearn.cm3(2), alpha=.5)\n",
    "    ax[i].hist(virginica[:, i], bins=bins, color=mglearn.cm3(1), alpha=.5)\n",
    "    ax[i].set_title(iris_dataset.feature_names[i])\n",
    "    ax[i].set_yticks(())\n",
    "ax[0].set_xlabel(\"Size\")\n",
    "ax[0].set_ylabel(\"Frequency\")\n",
    "ax[0].legend([\"setosa\", \"versicolor\",\"virginica\"], loc=\"best\")\n",
    "fig.tight_layout()"
   ]
  },
  {
   "cell_type": "markdown",
   "metadata": {},
   "source": [
    "#### b) 以下のコマンドでデータの前処理をしましょう."
   ]
  },
  {
   "cell_type": "code",
   "execution_count": 7,
   "metadata": {},
   "outputs": [],
   "source": [
    "# iris_dataset = load_iris()\n",
    "# from sklearn.preprocessing import StandardScaler \n",
    "# scaler =StandardScaler() \n",
    "# scaler.fit(iris_dataset.data)\n",
    "# X_scaled = scaler.transform(iris_dataset.data)"
   ]
  },
  {
   "cell_type": "code",
   "execution_count": 61,
   "metadata": {},
   "outputs": [],
   "source": [
    "#与えられたscriptを実行\n",
    "iris_data = load_iris()\n",
    "from sklearn.preprocessing import StandardScaler \n",
    "scaler =StandardScaler() \n",
    "scaler.fit(iris_data.data)\n",
    "X_scaled = scaler.transform(iris_data.data)\n",
    "# 以下、確認用コマンド\n",
    "# X_scaled"
   ]
  },
  {
   "cell_type": "markdown",
   "metadata": {},
   "source": [
    "#### c) PCA を実行し，コマンドをレポートに貼り付けよ"
   ]
  },
  {
   "cell_type": "code",
   "execution_count": 9,
   "metadata": {},
   "outputs": [
    {
     "name": "stdout",
     "output_type": "stream",
     "text": [
      "Original shape: (150, 4)\n",
      "Reduced shape: (150, 2)\n"
     ]
    }
   ],
   "source": [
    "from sklearn.decomposition import PCA \n",
    "# データの最初の2つの主成分だけ維持する \n",
    "pca = PCA(n_components=2)\n",
    "# cancerデータセットにPCAモデルを適合\n",
    "pca.fit(X_scaled)\n",
    "# 最初の2つの主成分に対してデータポイントを変換\n",
    "X_pca = pca.transform(X_scaled)\n",
    "print(\"Original shape: {}\".format(str(X_scaled.shape)))\n",
    "print(\"Reduced shape: {}\".format(str(X_pca.shape)))"
   ]
  },
  {
   "cell_type": "markdown",
   "metadata": {},
   "source": [
    "#### d) PCA の結果を図3−5のように図示し，コマンドと図をレポートに貼り付けよ"
   ]
  },
  {
   "cell_type": "code",
   "execution_count": 10,
   "metadata": {},
   "outputs": [
    {
     "data": {
      "text/plain": [
       "Text(0,0.5,'Second principal component')"
      ]
     },
     "execution_count": 10,
     "metadata": {},
     "output_type": "execute_result"
    },
    {
     "data": {
      "image/png": "[encoded data removed]",
      "text/plain": [
       "<Figure size 432x288 with 1 Axes>"
      ]
     },
     "metadata": {
      "needs_background": "light"
     },
     "output_type": "display_data"
    }
   ],
   "source": [
    "# 第1主成分と第2主成分によるプロット。クラスごとに色分け plt.figure(figsize=(8, 8))\n",
    "mglearn.discrete_scatter(X_pca[:, 0], X_pca[:, 1], iris_data.target)\n",
    "plt.legend(iris_data.target_names, loc=\"best\")\n",
    "plt.gca().set_aspect(\"equal\")\n",
    "plt.xlabel(\"First principal component\")\n",
    "plt.ylabel(\"Second principal component\")"
   ]
  },
  {
   "cell_type": "markdown",
   "metadata": {},
   "source": [
    "## 課題２"
   ]
  },
  {
   "cell_type": "markdown",
   "metadata": {},
   "source": [
    "### (1)教師なし学習のうち，PCA と t-SNE の違いは何かを説明せよ"
   ]
  },
  {
   "cell_type": "markdown",
   "metadata": {},
   "source": [
    "- PCAとt-SNEは共に、教師なし学習の次元削減を行う手法である点は共通であるが、主要な用途に違いがある。\n",
    "- PCAは、データセットの多様な特徴量のうちデータを説明する重要な特徴量に削減する事に用いられる。\n",
    "- 一方でt-SNEは、高次元の複雑なデータを二次元、三次元に削減した上で可視化する事に用いられる。"
   ]
  },
  {
   "cell_type": "markdown",
   "metadata": {},
   "source": [
    "### (2) k-means クラスタリングと凝集型クラスタリングの違いは何かを説明せよ\n"
   ]
  },
  {
   "cell_type": "markdown",
   "metadata": {},
   "source": [
    "- k-meansクラスタリングと凝集型クラスタリングは、教師なし学習のクラスタリング手法である点では共通であるが、クラスタを分類するためのアルゴリズムに違いがある。\n",
    "- k-meansクラスタリングのアルゴリズムは、データのある領域を代表するクラスタの重心を見つけてクラスタリングするアルゴリズムである。具体的には、データ中から適当なデータを指定したクラスタ数だけ選び、それらをクラスタの重心と仮決定し、各データと各重心の距離を計算し、最も近い重心をそのデータの所属するクラスタとする。次に、クラスタごとにデータの平均値を計算し、その平均値をクラスタの新しい重心とし、新しい重心で各データと各重心の距離を計算し、最も近い重心をそのデータの所属するクラスタする(この操作をAとする)。全てのデータの所属するクラスタが変化しなくなるか、計算ステップ数の上限に達するまで操作Aを繰り返し実行するようなアルゴリズムである。\n",
    "- 一方で凝集型クラスタリングのアルゴリズムは、最初に個々のデータを個別のクラスタとして開始し、終了条件が満たされるまで、最も類似した2つのクラスタを併合していき、個々のデータ分あったクラスタを併せて、減らして決定するアルゴリズムである。"
   ]
  },
  {
   "cell_type": "markdown",
   "metadata": {},
   "source": [
    "### (3) iris データセットに対して，t-SNE を実行せよ.\n"
   ]
  },
  {
   "cell_type": "code",
   "execution_count": 18,
   "metadata": {},
   "outputs": [],
   "source": [
    "from sklearn.manifold import TSNE\n",
    "tsne = TSNE(random_state=42)\n",
    "iris_data = load_iris()\n",
    "\n",
    "iris_tsne = tsne.fit_transform(iris_dataset.data)"
   ]
  },
  {
   "cell_type": "code",
   "execution_count": 21,
   "metadata": {},
   "outputs": [
    {
     "data": {
      "text/plain": [
       "Text(0.5,0,'t-SNE feature 1')"
      ]
     },
     "execution_count": 21,
     "metadata": {},
     "output_type": "execute_result"
    },
    {
     "data": {
      "image/png": "[encoded data removed]",
      "text/plain": [
       "<Figure size 720x720 with 1 Axes>"
      ]
     },
     "metadata": {
      "needs_background": "light"
     },
     "output_type": "display_data"
    }
   ],
   "source": [
    "plt.figure(figsize=(10, 10))\n",
    "plt.xlim(iris_tsne[:, 0].min(), iris_tsne[:, 0].max() + 1)\n",
    "plt.ylim(iris_tsne[:, 1].min(), iris_tsne[:, 1].max() + 1) \n",
    "for i in range(len(iris_dataset.data)):\n",
    "    # 点ではなく数字をテキストとしてプロットする\n",
    "    plt.text(iris_tsne[i, 0], iris_tsne[i, 1], str(iris_dataset.target[i]),\n",
    "             color = colors[iris_dataset.target[i]],\n",
    "             fontdict={'weight': 'bold', 'size': 9}) \n",
    "plt.xlabel(\"t-SNE feature 0\")\n",
    "plt.xlabel(\"t-SNE feature 1\")\n",
    "# 0:\"setosa\" 1:\"versicolor\" 2:\"virginica\""
   ]
  },
  {
   "cell_type": "markdown",
   "metadata": {},
   "source": [
    "### (4) iris データセットに対して，k-means クラスタリングを実行せよ\n",
    "\t具体的には，p.166 の In47-In50で使われている合成データ(make_blobs)を iris データセットで置き換えて実行せよ.\n",
    "\tその際，図 3-25 に相当する図をレポートに含める事.\n"
   ]
  },
  {
   "cell_type": "code",
   "execution_count": 44,
   "metadata": {},
   "outputs": [
    {
     "data": {
      "text/plain": [
       "KMeans(algorithm='auto', copy_x=True, init='k-means++', max_iter=300,\n",
       "    n_clusters=3, n_init=10, n_jobs=1, precompute_distances='auto',\n",
       "    random_state=None, tol=0.0001, verbose=0)"
      ]
     },
     "execution_count": 44,
     "metadata": {},
     "output_type": "execute_result"
    }
   ],
   "source": [
    "from sklearn.cluster import KMeans\n",
    "iris_data = load_iris()\n",
    "# データセットをデータとラベルに分けて今回使うデータを取り出す\n",
    "X,y= load_iris(return_X_y=True)\n",
    "# クラスタリングモデルを作る \n",
    "# 実際のクラスが3つなのでクラスタは3つで見ることとした\n",
    "kmeans = KMeans(n_clusters=3)\n",
    "kmeans.fit(X)"
   ]
  },
  {
   "cell_type": "code",
   "execution_count": 41,
   "metadata": {},
   "outputs": [
    {
     "name": "stdout",
     "output_type": "stream",
     "text": [
      "Cluster memberships:\n",
      "[1 1 1 1 1 1 1 1 1 1 1 1 1 1 1 1 1 1 1 1 1 1 1 1 1 1 1 1 1 1 1 1 1 1 1 1 1\n",
      " 1 1 1 1 1 1 1 1 1 1 1 1 1 0 0 2 0 0 0 0 0 0 0 0 0 0 0 0 0 0 0 0 0 0 0 0 0\n",
      " 0 0 0 2 0 0 0 0 0 0 0 0 0 0 0 0 0 0 0 0 0 0 0 0 0 0 2 0 2 2 2 2 0 2 2 2 2\n",
      " 2 2 0 0 2 2 2 2 0 2 0 2 0 2 2 0 0 2 2 2 2 2 0 2 2 2 2 0 2 2 2 0 2 2 2 0 2\n",
      " 2 0]\n"
     ]
    }
   ],
   "source": [
    "print(\"Cluster memberships:\\n{}\".format(kmeans.labels_))"
   ]
  },
  {
   "cell_type": "code",
   "execution_count": 42,
   "metadata": {},
   "outputs": [
    {
     "name": "stdout",
     "output_type": "stream",
     "text": [
      "[1 1 1 1 1 1 1 1 1 1 1 1 1 1 1 1 1 1 1 1 1 1 1 1 1 1 1 1 1 1 1 1 1 1 1 1 1\n",
      " 1 1 1 1 1 1 1 1 1 1 1 1 1 0 0 2 0 0 0 0 0 0 0 0 0 0 0 0 0 0 0 0 0 0 0 0 0\n",
      " 0 0 0 2 0 0 0 0 0 0 0 0 0 0 0 0 0 0 0 0 0 0 0 0 0 0 2 0 2 2 2 2 0 2 2 2 2\n",
      " 2 2 0 0 2 2 2 2 0 2 0 2 0 2 2 0 0 2 2 2 2 2 0 2 2 2 2 0 2 2 2 0 2 2 2 0 2\n",
      " 2 0]\n"
     ]
    }
   ],
   "source": [
    "print(kmeans.predict(X))"
   ]
  },
  {
   "cell_type": "code",
   "execution_count": 43,
   "metadata": {},
   "outputs": [
    {
     "data": {
      "text/plain": [
       "[<matplotlib.lines.Line2D at 0x7fbdbaab6f28>,\n",
       " <matplotlib.lines.Line2D at 0x7fbdbaab6fd0>,\n",
       " <matplotlib.lines.Line2D at 0x7fbdbaab6ef0>]"
      ]
     },
     "execution_count": 43,
     "metadata": {},
     "output_type": "execute_result"
    },
    {
     "data": {
      "image/png": "[encoded data removed]",
      "text/plain": [
       "<Figure size 432x288 with 1 Axes>"
      ]
     },
     "metadata": {
      "needs_background": "light"
     },
     "output_type": "display_data"
    }
   ],
   "source": [
    "mglearn.discrete_scatter(X[:, 0], X[:, 1], kmeans.labels_, markers='o')\n",
    "mglearn.discrete_scatter(\n",
    "    kmeans.cluster_centers_[:, 0], \n",
    "    kmeans.cluster_centers_[:, 1], [0, 1, 2], markers='^', markeredgewidth=2)"
   ]
  },
  {
   "cell_type": "markdown",
   "metadata": {},
   "source": [
    "## 課題3"
   ]
  },
  {
   "cell_type": "markdown",
   "metadata": {},
   "source": [
    "### (1) カテゴリ変数とは何かを説明せよ\n",
    "\t説明に際して，教科書の表 4-1 以外の具体的な例を挙げて説明せよ. \n"
   ]
  },
  {
   "cell_type": "markdown",
   "metadata": {},
   "source": [
    "解答: 機械学習において、変数値が連続値になっていないデータのことである。具体的なデータ例として、本の種類が集まったデータ`{\"図鑑\",\"SF\",\"ミステリー\",\"ライトノベル\"}`等が挙げられる。`\"図鑑\"`と`\"SF\"`には数学的に表すことができる関係性がなく、乗算や足し算がこのままのデータだとできなく、連続値になっていないと言える。\n"
   ]
  },
  {
   "cell_type": "markdown",
   "metadata": {},
   "source": [
    "### (2) ワンホットエンコーディング(ダミー変数)とはなにかを説明せよ.\n",
    "\t説明に際しては，"
   ]
  },
  {
   "cell_type": "markdown",
   "metadata": {},
   "source": [
    "#### a)ワンホットエンコーディングの具体例及び，\n",
    "\n"
   ]
  },
  {
   "cell_type": "markdown",
   "metadata": {},
   "source": [
    "#### b)なぜワンホットエンコーディング(ダミー変数)が必要なのかを説明せよ. "
   ]
  },
  {
   "cell_type": "markdown",
   "metadata": {},
   "source": [
    "解答:\n",
    "- カテゴリ変数を数学的に扱えるように、1つ以上の0と1の値を持つ新しい特徴量で置き換えたものである。\n",
    "- ワンホットエンコーディングの具体例として、カテゴリ変数である、本の種類のデータ`{\"図鑑\",\"SF\",\"ミステリー\"}`をワンホットエンコーディングで書き換えて説明する。ワンホットエンコーディングの処理として、`{\"図鑑\",\"SF\",\"ミステリー\"}`のそれぞれの特徴量を0と1の値を取り得る`{isZukan,isSF,isMystery}`と表現する。例えば、ある本が`\"図鑑\"`属性はなく、`\"SF\"`属性と`\"ミステリー\"`属性を持っていた場合、`{isZukan:0,isSF:1,isMystery:1}`と表現できる。\n",
    "- ワンホットエンコーディング(ダミー変数)が必要理由としては、内部で数学的に処理をしているアルゴリズムは、数学的に扱えないカテゴリ変数を扱うことができないため、アルゴリズムが数学的に扱えるようにカテゴリ変数を加工するためである。"
   ]
  },
  {
   "cell_type": "markdown",
   "metadata": {},
   "source": [
    "### (3) iris のデータをワンホットエンコーディングせよ.\n",
    "\t課題を簡単にするため，以下のスクリプトを実行した後の iris.df をワンホット エンコーディングせよ.\n",
    "\tなお，どの列(項目)がワンホットエンコーディングされた かを明示すること.\n"
   ]
  },
  {
   "cell_type": "code",
   "execution_count": 52,
   "metadata": {},
   "outputs": [],
   "source": [
    "#iris = load_iris()\n",
    "#iris.df = pd.DataFrame(iris.data) \n",
    "#iris.df.columns = iris.feature_names\n",
    "#new_col = iris.target_names[ iris.target ] \n",
    "#iris.df[\"target\"] = new_col"
   ]
  },
  {
   "cell_type": "code",
   "execution_count": 60,
   "metadata": {},
   "outputs": [],
   "source": [
    "#与えられたscriptの実行\n",
    "iris = load_iris()\n",
    "iris.df = pd.DataFrame(iris.data) \n",
    "iris.df.columns = iris.feature_names\n",
    "new_col = iris.target_names[ iris.target ] \n",
    "iris.df[\"target\"] = new_col"
   ]
  },
  {
   "cell_type": "code",
   "execution_count": 59,
   "metadata": {},
   "outputs": [],
   "source": [
    "# 以下one-hot-encoding処理\n",
    "from sklearn.preprocessing import  OneHotEncoder\n",
    "\n",
    "y = iris.target\n",
    "categories='auto'\n",
    "onehotencoder = OneHotEncoder(categories)\n",
    "y = onehotencoder.fit_transform(y.reshape(-1,1))\n",
    "# 確認用\n",
    "# print(y.toarray())"
   ]
  },
  {
   "cell_type": "markdown",
   "metadata": {},
   "source": [
    "解答:`\"target\"`の値\n",
    "    - `\"target\"`の値が、`virginica`や`setosa`というようなカテゴリ変数であり、ワンホットエンコーディングで数学的に処理できるようにしている"
   ]
  },
  {
   "cell_type": "markdown",
   "metadata": {},
   "source": [
    "### (4) 交差検証とは何かを説明せよ.\n",
    "\tその際，\n"
   ]
  },
  {
   "cell_type": "markdown",
   "metadata": {},
   "source": [
    "#### a)交差検証が必要な理由，\n"
   ]
  },
  {
   "cell_type": "markdown",
   "metadata": {},
   "source": [
    "#### b)あるデータの 3-fold cross-validation の行い方\n",
    " \tなお，b)については「訓練セット」「テストセット」という用語を用いて説明する事"
   ]
  },
  {
   "cell_type": "markdown",
   "metadata": {},
   "source": [
    "#### c) 交差検証の欠点(デメリット)について含む事.\n",
    "\n"
   ]
  },
  {
   "cell_type": "markdown",
   "metadata": {},
   "source": [
    "解答:\n",
    "- 機械学習における学習の際に、学習データの訓練セットと検証セット分割時の誤差によって生まれる過学習を避けるために、複数の分割パターンで何度か検証を行うモデル評価の１つ\n",
    "- 具体的な例として、3-fold cross-validation(3分割の交差検証)で説明する。学習に使うデータを３分割する。訓練セットと検証セットを分ける際に、検証セットが3分割したデータの1つ、訓練セットが3分割したデータの2つを使ってモデルの学習、検証を行う。同様に、別の組み合わせで検証セットと訓練セットをで学習、検証をそれぞれ2回行う。計３回の結果を使い、モデルの評価を行う。\n",
    "- 交差検証の欠点としては、分割した分モデルを作成する必要あるため計算コストがかかる点である。"
   ]
  }
 ],
 "metadata": {
  "kernelspec": {
   "display_name": "Python 3",
   "language": "python",
   "name": "python3"
  },
  "language_info": {
   "codemirror_mode": {
    "name": "ipython",
    "version": 3
   },
   "file_extension": ".py",
   "mimetype": "text/x-python",
   "name": "python",
   "nbconvert_exporter": "python",
   "pygments_lexer": "ipython3",
   "version": "3.7.0"
  }
 },
 "nbformat": 4,
 "nbformat_minor": 2
}
