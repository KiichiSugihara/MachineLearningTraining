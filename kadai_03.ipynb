{
 "cells": [
  {
   "cell_type": "markdown",
   "metadata": {},
   "source": [
    "# 機械学習実習 3回課題"
   ]
  },
  {
   "cell_type": "code",
   "execution_count": 2,
   "metadata": {},
   "outputs": [],
   "source": [
    "#最初にインポートしている前提（教科書 p.11 ）  \n",
    "## 演習のipynbの最初に次の6行を記載しておきましょう．\n",
    "import numpy as np\n",
    "import matplotlib.pyplot as plt\n",
    "import pandas as pd\n",
    "import mglearn\n",
    "from IPython.display import display\n",
    "from sklearn.datasets import load_iris\n",
    "\n",
    "# cancer後で消す\n",
    "from sklearn.datasets import load_breast_cancer\n",
    "cancer = load_breast_cancer()\n",
    "%matplotlib inline"
   ]
  },
  {
   "cell_type": "markdown",
   "metadata": {},
   "source": [
    "## 課題1"
   ]
  },
  {
   "cell_type": "markdown",
   "metadata": {},
   "source": [
    "### (1) 教師あり学習と教師なし学習について以下の問に答えよ"
   ]
  },
  {
   "cell_type": "markdown",
   "metadata": {},
   "source": [
    "#### a) 教師とは何か?"
   ]
  },
  {
   "cell_type": "markdown",
   "metadata": {},
   "source": [
    "機械学習において、あるモデルを学習させる際、入力値に対する出力値があらかじめ決まったものを訓練データとして用いて、モデルを学習させる。この時の、あらかじめ決まった入力値と出力値のデータセットを教師という。"
   ]
  },
  {
   "cell_type": "markdown",
   "metadata": {},
   "source": [
    "#### b) 教師あり学習と教師なし学習は何が違うのか，以下の問に答えよ"
   ]
  },
  {
   "cell_type": "markdown",
   "metadata": {},
   "source": [
    "##### b-1)教師あり学習ができるデータで，教師なし学習はできるか? Yes/No "
   ]
  },
  {
   "cell_type": "markdown",
   "metadata": {},
   "source": [
    "- Yes \n",
    "- 理由: 教師なし学習は、入力データとなるデータさえあれば実行可能であるため。"
   ]
  },
  {
   "cell_type": "markdown",
   "metadata": {},
   "source": [
    "##### b-2)教師なし学習ができるデータで，教師あり学習はできるか? Yes/No "
   ]
  },
  {
   "cell_type": "markdown",
   "metadata": {},
   "source": [
    "- No\n",
    "- 理由: 教師あり学習は、入力値のデータと入力値のデータから得られるラベル情報を入力値として必要とする学習方法であるが、教師なし学習で必要な入力値は単なるデータ群だけでよく、教師あり学習に必要な入力値を満たさないから。"
   ]
  },
  {
   "cell_type": "markdown",
   "metadata": {},
   "source": [
    "##### b-3)以上を踏まえ，教師あり学習と教師なし学習について説明せよ."
   ]
  },
  {
   "cell_type": "markdown",
   "metadata": {},
   "source": [
    "- 教師あり学習は、入力データに対して、求められる出力データが予め、ある程度決まっており、入出力が予め分かっている訓練データを用いてモデルを学習させ、訓練データとは違う入力データから出力を予想する学習方法である。\n",
    "- 一方で、教師なし学習は入力データに対して、求められる出力が特に決まっていなく、与えられた入力データから、似たデータを分類したり、たくさんの特徴量から少量の本質的な特徴量にデータを削減したりする学習方法である。"
   ]
  },
  {
   "cell_type": "markdown",
   "metadata": {},
   "source": [
    "#### c) 教師あり学習の手法を2つ挙げよ."
   ]
  },
  {
   "cell_type": "markdown",
   "metadata": {},
   "source": [
    "- k-近傍法によるクラス分類:学習させた訓練データに対し予測したいデータをプロットし、予測したいデータに近い訓練データをk個求め、k個の訓練データに対するラベルを投票的に決める学習手法\n",
    "- 線形モデルによる回帰: 訓練データの特徴量を変数とした線形の関数を学習モデルとして作成し、その関数を用いて予測する学習手法"
   ]
  },
  {
   "cell_type": "markdown",
   "metadata": {},
   "source": [
    "#### d) 教師なし学習の手法を2つ挙げよ.(この問は，第 12 週以降の内容を含む) "
   ]
  },
  {
   "cell_type": "markdown",
   "metadata": {},
   "source": [
    "- PCA\n",
    "- k-means クラスタリング\n",
    "- これは仮"
   ]
  },
  {
   "cell_type": "markdown",
   "metadata": {},
   "source": [
    "### (2) 3.4.1.1 で用いている cancer データセットを Iris データセットに交換し，PCA による解析実行せよ"
   ]
  },
  {
   "cell_type": "markdown",
   "metadata": {},
   "source": [
    "#### a) 図 3.4 のようなヒストグラムを描き，コマンドと図をレポートに貼り付けよ."
   ]
  },
  {
   "cell_type": "code",
   "execution_count": 13,
   "metadata": {},
   "outputs": [
    {
     "data": {
      "image/png": "[encoded data removed]",
      "text/plain": [
       "<Figure size 360x360 with 4 Axes>"
      ]
     },
     "metadata": {
      "needs_background": "light"
     },
     "output_type": "display_data"
    }
   ],
   "source": [
    "iris_dataset = load_iris()\n",
    "# irisの特徴量は4つなので、 2*2でちょうどいい\n",
    "fig, axes = plt.subplots(2, 2, figsize=(5, 5)) \n",
    "# irisのクラスは3クラス\n",
    "setosa = iris_dataset.data[iris_dataset.target == 0] \n",
    "versicolor = iris_dataset.data[iris_dataset.target == 1]\n",
    "virginica = iris_dataset.data[iris_dataset.target == 2]\n",
    "ax = axes.ravel()\n",
    "\n",
    "for i in range(4):\n",
    "    _, bins=np.histogram(iris_dataset.data[:,i],bins=50)\n",
    "    ax[i].hist(setosa[:, i], bins=bins, color=mglearn.cm3(0), alpha=.5)\n",
    "    ax[i].hist(versicolor[:, i], bins=bins, color=mglearn.cm3(2), alpha=.5)\n",
    "    ax[i].hist(virginica[:, i], bins=bins, color=mglearn.cm3(1), alpha=.5)\n",
    "    ax[i].set_title(iris_dataset.feature_names[i])\n",
    "    ax[i].set_yticks(())\n",
    "ax[0].set_xlabel(\"Size\")\n",
    "ax[0].set_ylabel(\"Frequency\")\n",
    "ax[0].legend([\"setosa\", \"versicolor\",\"virginica\"], loc=\"best\")\n",
    "fig.tight_layout()"
   ]
  },
  {
   "cell_type": "markdown",
   "metadata": {},
   "source": [
    "#### b) 以下のコマンドでデータの前処理をしましょう."
   ]
  },
  {
   "cell_type": "code",
   "execution_count": 6,
   "metadata": {},
   "outputs": [],
   "source": [
    "# iris_dataset = load_iris()\n",
    "# from sklearn.preprocessing import StandardScaler \n",
    "# scaler =StandardScaler() \n",
    "# scaler.fit(iris_dataset.data)\n",
    "# X_scaled = scaler.transform(iris_dataset.data)"
   ]
  },
  {
   "cell_type": "code",
   "execution_count": 14,
   "metadata": {},
   "outputs": [],
   "source": [
    "iris_data = load_iris()\n",
    "from sklearn.preprocessing import StandardScaler \n",
    "scaler =StandardScaler() \n",
    "scaler.fit(iris_data.data)\n",
    "X_scaled = scaler.transform(iris_data.data)\n",
    "# 以下、確認用コマンド\n",
    "# X_scaled"
   ]
  },
  {
   "cell_type": "markdown",
   "metadata": {},
   "source": [
    "#### c) PCA を実行し，コマンドをレポートに貼り付けよ"
   ]
  },
  {
   "cell_type": "code",
   "execution_count": 15,
   "metadata": {},
   "outputs": [
    {
     "name": "stdout",
     "output_type": "stream",
     "text": [
      "Original shape: (150, 4)\n",
      "Reduced shape: (150, 2)\n"
     ]
    }
   ],
   "source": [
    "from sklearn.decomposition import PCA \n",
    "# データの最初の2つの主成分だけ維持する \n",
    "pca = PCA(n_components=2)\n",
    "# cancerデータセットにPCAモデルを適合\n",
    "pca.fit(X_scaled)\n",
    "# 最初の2つの主成分に対してデータポイントを変換\n",
    "X_pca = pca.transform(X_scaled)\n",
    "print(\"Original shape: {}\".format(str(X_scaled.shape)))\n",
    "print(\"Reduced shape: {}\".format(str(X_pca.shape)))"
   ]
  },
  {
   "cell_type": "markdown",
   "metadata": {},
   "source": [
    "#### d) PCA の結果を図3−5のように図示し，コマンドと図をレポートに貼り付けよ"
   ]
  },
  {
   "cell_type": "code",
   "execution_count": 16,
   "metadata": {},
   "outputs": [
    {
     "data": {
      "text/plain": [
       "Text(0,0.5,'Second principal component')"
      ]
     },
     "execution_count": 16,
     "metadata": {},
     "output_type": "execute_result"
    },
    {
     "data": {
      "image/png": "[encoded data removed]",
      "text/plain": [
       "<Figure size 432x288 with 1 Axes>"
      ]
     },
     "metadata": {
      "needs_background": "light"
     },
     "output_type": "display_data"
    }
   ],
   "source": [
    "# 第1主成分と第2主成分によるプロット。クラスごとに色分け plt.figure(figsize=(8, 8))\n",
    "mglearn.discrete_scatter(X_pca[:, 0], X_pca[:, 1], iris_data.target)\n",
    "plt.legend(iris_data.target_names, loc=\"best\")\n",
    "plt.gca().set_aspect(\"equal\")\n",
    "plt.xlabel(\"First principal component\")\n",
    "plt.ylabel(\"Second principal component\")"
   ]
  },
  {
   "cell_type": "markdown",
   "metadata": {},
   "source": [
    "## 課題２"
   ]
  },
  {
   "cell_type": "markdown",
   "metadata": {},
   "source": [
    "### (1)教師なし学習のうち，PCA と t-SNE の違いは何かを説明せよ"
   ]
  },
  {
   "cell_type": "markdown",
   "metadata": {},
   "source": []
  },
  {
   "cell_type": "markdown",
   "metadata": {},
   "source": [
    "### (2) k-means クラスタリングと凝集型クラスタリングの違いは何かを説明せよ\n"
   ]
  },
  {
   "cell_type": "markdown",
   "metadata": {},
   "source": []
  },
  {
   "cell_type": "markdown",
   "metadata": {},
   "source": [
    "### (3) iris データセットに対して，t-SNE を実行せよ.\n",
    "    具体的には，p.162-163 に記載の In43-In44で使われているデータ(digits)をiris データセットに置き換えて実行せよ."
   ]
  },
  {
   "cell_type": "markdown",
   "metadata": {},
   "source": []
  },
  {
   "cell_type": "markdown",
   "metadata": {},
   "source": [
    "### (4) iris データセットに対して，k-means クラスタリングを実行せよ\n",
    "\t具体的には，p.166 の In47-In50で使われている合成データ(make_blobs)を iris データセットで置き換えて実行せよ.\n",
    "\tその際，図 3-25 に相当する図をレポートに含める事.\n"
   ]
  },
  {
   "cell_type": "code",
   "execution_count": null,
   "metadata": {},
   "outputs": [],
   "source": []
  },
  {
   "cell_type": "markdown",
   "metadata": {},
   "source": [
    "## 課題3"
   ]
  },
  {
   "cell_type": "markdown",
   "metadata": {},
   "source": [
    "### (1) カテゴリ変数とは何かを説明せよ\n",
    "\t説明に際して，教科書の表 4-1 以外の具体的な例を挙げて説明せよ. \n"
   ]
  },
  {
   "cell_type": "markdown",
   "metadata": {},
   "source": []
  },
  {
   "cell_type": "markdown",
   "metadata": {},
   "source": [
    "### (2) ワンホットエンコーディング(ダミー変数)とはなにかを説明せよ.\n",
    "\t説明に際しては，"
   ]
  },
  {
   "cell_type": "markdown",
   "metadata": {},
   "source": [
    "#### a)ワンホットエンコーディングの具体例及び，\n",
    "\n"
   ]
  },
  {
   "cell_type": "code",
   "execution_count": null,
   "metadata": {},
   "outputs": [],
   "source": []
  },
  {
   "cell_type": "markdown",
   "metadata": {},
   "source": [
    "#### b)なぜワンホットエンコーディング(ダミー変数)が必要なのかを説明せよ. "
   ]
  },
  {
   "cell_type": "code",
   "execution_count": null,
   "metadata": {},
   "outputs": [],
   "source": []
  },
  {
   "cell_type": "markdown",
   "metadata": {},
   "source": [
    "### (3) iris のデータをワンホットエンコーディングせよ.\n",
    "\t課題を簡単にするため，以下のスクリプトを実行した後の iris.df をワンホット エンコーディングせよ.\n",
    "\tなお，どの列(項目)がワンホットエンコーディングされた かを明示すること.\n"
   ]
  },
  {
   "cell_type": "code",
   "execution_count": 6,
   "metadata": {},
   "outputs": [
    {
     "ename": "NameError",
     "evalue": "name 'load_iris' is not defined",
     "output_type": "error",
     "traceback": [
      "\u001b[0;31m---------------------------------------------------------------------------\u001b[0m",
      "\u001b[0;31mNameError\u001b[0m                                 Traceback (most recent call last)",
      "\u001b[0;32m<ipython-input-6-886a265a60b0>\u001b[0m in \u001b[0;36m<module>\u001b[0;34m()\u001b[0m\n\u001b[0;32m----> 1\u001b[0;31m \u001b[0miris\u001b[0m \u001b[0;34m=\u001b[0m \u001b[0mload_iris\u001b[0m\u001b[0;34m(\u001b[0m\u001b[0;34m)\u001b[0m\u001b[0;34m\u001b[0m\u001b[0m\n\u001b[0m\u001b[1;32m      2\u001b[0m \u001b[0miris\u001b[0m\u001b[0;34m.\u001b[0m\u001b[0mdf\u001b[0m \u001b[0;34m=\u001b[0m \u001b[0mpd\u001b[0m\u001b[0;34m.\u001b[0m\u001b[0mDataFrame\u001b[0m\u001b[0;34m(\u001b[0m\u001b[0miris\u001b[0m\u001b[0;34m.\u001b[0m\u001b[0mdata\u001b[0m\u001b[0;34m)\u001b[0m\u001b[0;34m\u001b[0m\u001b[0m\n\u001b[1;32m      3\u001b[0m \u001b[0miris\u001b[0m\u001b[0;34m.\u001b[0m\u001b[0mdf\u001b[0m\u001b[0;34m.\u001b[0m\u001b[0mcolumns\u001b[0m \u001b[0;34m=\u001b[0m \u001b[0miris\u001b[0m\u001b[0;34m.\u001b[0m\u001b[0mfeature_names\u001b[0m\u001b[0;34m\u001b[0m\u001b[0m\n\u001b[1;32m      4\u001b[0m \u001b[0mnew_col\u001b[0m \u001b[0;34m=\u001b[0m \u001b[0miris\u001b[0m\u001b[0;34m.\u001b[0m\u001b[0mtarget_names\u001b[0m\u001b[0;34m[\u001b[0m \u001b[0miris\u001b[0m\u001b[0;34m.\u001b[0m\u001b[0mtarget\u001b[0m \u001b[0;34m]\u001b[0m\u001b[0;34m\u001b[0m\u001b[0m\n\u001b[1;32m      5\u001b[0m \u001b[0miris\u001b[0m\u001b[0;34m.\u001b[0m\u001b[0mdf\u001b[0m\u001b[0;34m[\u001b[0m\u001b[0;34m\"target\"\u001b[0m\u001b[0;34m]\u001b[0m \u001b[0;34m=\u001b[0m \u001b[0mnew_col\u001b[0m\u001b[0;34m\u001b[0m\u001b[0m\n",
      "\u001b[0;31mNameError\u001b[0m: name 'load_iris' is not defined"
     ]
    }
   ],
   "source": [
    "iris = load_iris()\n",
    "iris.df = pd.DataFrame(iris.data) \n",
    "iris.df.columns = iris.feature_names\n",
    "new_col = iris.target_names[ iris.target ] \n",
    "iris.df[\"target\"] = new_col\n"
   ]
  },
  {
   "cell_type": "code",
   "execution_count": null,
   "metadata": {},
   "outputs": [],
   "source": []
  },
  {
   "cell_type": "markdown",
   "metadata": {},
   "source": [
    "### (4) 交差検証とは何かを説明せよ.\n",
    "\tその際，\n"
   ]
  },
  {
   "cell_type": "markdown",
   "metadata": {},
   "source": [
    "#### a)交差検証が必要な理由，\n"
   ]
  },
  {
   "cell_type": "code",
   "execution_count": null,
   "metadata": {},
   "outputs": [],
   "source": []
  },
  {
   "cell_type": "markdown",
   "metadata": {},
   "source": [
    "#### b)あるデータの 3-fold cross-validation の行い方\n",
    " \tなお，b)については「訓練セット」「テストセット」という用語を用いて説明する事"
   ]
  },
  {
   "cell_type": "code",
   "execution_count": null,
   "metadata": {},
   "outputs": [],
   "source": []
  },
  {
   "cell_type": "markdown",
   "metadata": {},
   "source": [
    "#### c) 交差検証の欠点(デメリット)について含む事.\n",
    "\n"
   ]
  },
  {
   "cell_type": "code",
   "execution_count": null,
   "metadata": {},
   "outputs": [],
   "source": []
  }
 ],
 "metadata": {
  "kernelspec": {
   "display_name": "Python 3",
   "language": "python",
   "name": "python3"
  },
  "language_info": {
   "codemirror_mode": {
    "name": "ipython",
    "version": 3
   },
   "file_extension": ".py",
   "mimetype": "text/x-python",
   "name": "python",
   "nbconvert_exporter": "python",
   "pygments_lexer": "ipython3",
   "version": "3.7.0"
  }
 },
 "nbformat": 4,
 "nbformat_minor": 2
}
