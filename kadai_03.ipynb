{
 "cells": [
  {
   "cell_type": "markdown",
   "metadata": {},
   "source": [
    "# 機械学習実習 3回課題"
   ]
  },
  {
   "cell_type": "markdown",
   "metadata": {},
   "source": [
    "## 課題1"
   ]
  },
  {
   "cell_type": "markdown",
   "metadata": {},
   "source": [
    "### (1) 教師あり学習と教師なし学習について以下の問に答えよ"
   ]
  },
  {
   "cell_type": "markdown",
   "metadata": {},
   "source": [
    "#### a) 教師とは何か?"
   ]
  },
  {
   "cell_type": "markdown",
   "metadata": {},
   "source": [
    "#### b) 教師あり学習と教師なし学習は何が違うのか，以下の問に答えよ"
   ]
  },
  {
   "cell_type": "markdown",
   "metadata": {},
   "source": [
    "##### b-1)教師あり学習ができるデータで，教師なし学習はできるか? Yes/No "
   ]
  },
  {
   "cell_type": "markdown",
   "metadata": {},
   "source": [
    "##### b-2)教師なし学習ができるデータで，教師あり学習はできるか? Yes/No "
   ]
  },
  {
   "cell_type": "markdown",
   "metadata": {},
   "source": [
    "##### b-3)以上を踏まえ，教師あり学習と教師なし学習について説明せよ."
   ]
  },
  {
   "cell_type": "markdown",
   "metadata": {},
   "source": [
    "#### c) 教師あり学習の手法を2つ挙げよ."
   ]
  },
  {
   "cell_type": "markdown",
   "metadata": {},
   "source": [
    "#### d) 教師なし学習の手法を2つ挙げよ.(この問は，第 12 週以降の内容を含む) "
   ]
  },
  {
   "cell_type": "markdown",
   "metadata": {},
   "source": [
    "### (2) 3.4.1.1 で用いている cancer データセットを Iris データセットに交換し，PCA による解析実行せよ"
   ]
  },
  {
   "cell_type": "markdown",
   "metadata": {},
   "source": [
    "#### a) 図 3.4 のようなヒストグラムを描き，コマンドと図をレポートに貼り付けよ."
   ]
  },
  {
   "cell_type": "markdown",
   "metadata": {},
   "source": [
    "#### b) 以下のコマンドでデータの前処理をしましょう."
   ]
  },
  {
   "cell_type": "code",
   "execution_count": 3,
   "metadata": {},
   "outputs": [
    {
     "ename": "IndentationError",
     "evalue": "unexpected indent (<ipython-input-3-ea983ebf9a58>, line 2)",
     "output_type": "error",
     "traceback": [
      "\u001b[0;36m  File \u001b[0;32m\"<ipython-input-3-ea983ebf9a58>\"\u001b[0;36m, line \u001b[0;32m2\u001b[0m\n\u001b[0;31m    scaler =StandardScaler()\u001b[0m\n\u001b[0m    ^\u001b[0m\n\u001b[0;31mIndentationError\u001b[0m\u001b[0;31m:\u001b[0m unexpected indent\n"
     ]
    }
   ],
   "source": [
    "from sklearn.preprocessing import StandardScaler \n",
    "    scaler =StandardScaler() \n",
    "    scaler.fit(iris_dataset.data)\n",
    "    X_scaled = scaler.transform(iris_dataset.data)"
   ]
  },
  {
   "cell_type": "markdown",
   "metadata": {},
   "source": [
    "#### c) PCA を実行し，コマンドをレポートに貼り付けよ"
   ]
  },
  {
   "cell_type": "markdown",
   "metadata": {},
   "source": [
    "#### d) PCA の結果を図3−5のように図示し，コマンドと図をレポートに貼り付けよ"
   ]
  },
  {
   "cell_type": "markdown",
   "metadata": {},
   "source": [
    "### 拡張課題"
   ]
  },
  {
   "cell_type": "markdown",
   "metadata": {},
   "source": [
    "#### (e) 可能な人だけ解けば良い.\n",
    " \td)では，第一主成分と第二主成分の散布図を書きました. d)のコマンドを使って，2つの散布図を新たに作成図しましょう."
   ]
  },
  {
   "cell_type": "markdown",
   "metadata": {},
   "source": [
    "##### e-1)元データ(iris_dataset.data)の2軸( sepal length と sepal width)の散布図"
   ]
  },
  {
   "cell_type": "markdown",
   "metadata": {},
   "source": [
    "#####  e-2)元データ(iris_dataset.data)の2軸( petal length と petal width)の散布図"
   ]
  },
  {
   "cell_type": "markdown",
   "metadata": {},
   "source": [
    "## 課題２"
   ]
  },
  {
   "cell_type": "markdown",
   "metadata": {},
   "source": [
    "### (1)教師なし学習のうち，PCA と t-SNE の違いは何かを説明せよ"
   ]
  },
  {
   "cell_type": "markdown",
   "metadata": {},
   "source": [
    "### (2) k-means クラスタリングと凝集型クラスタリングの違いは何かを説明せよ\n"
   ]
  },
  {
   "cell_type": "markdown",
   "metadata": {},
   "source": [
    "### (3) iris データセットに対して，t-SNE を実行せよ.\n",
    "    具体的には，p.162-163 に記載の In43-In44で使われているデータ(digits)をiris データセットに置き換えて実行せよ."
   ]
  },
  {
   "cell_type": "markdown",
   "metadata": {},
   "source": [
    "### (4) iris データセットに対して，k-means クラスタリングを実行せよ\n",
    "\t具体的には，p.166 の In47-In50で使われている合成データ(make_blobs)を iris データセットで置き換えて実行せよ.\n",
    "\tその際，図 3-25 に相当する図をレポートに含める事.\n"
   ]
  },
  {
   "cell_type": "markdown",
   "metadata": {},
   "source": [
    "## 課題3"
   ]
  },
  {
   "cell_type": "markdown",
   "metadata": {},
   "source": [
    "### (1) カテゴリ変数とは何かを説明せよ\n",
    "\t説明に際して，教科書の表 4-1 以外の具体的な例を挙げて説明せよ. \n"
   ]
  },
  {
   "cell_type": "markdown",
   "metadata": {},
   "source": [
    "### (2) ワンホットエンコーディング(ダミー変数)とはなにかを説明せよ.\n",
    "\t説明に際しては，"
   ]
  },
  {
   "cell_type": "markdown",
   "metadata": {},
   "source": [
    "#### a)ワンホットエンコーディングの具体例及び，\n",
    "\n"
   ]
  },
  {
   "cell_type": "markdown",
   "metadata": {},
   "source": [
    "#### b)なぜワンホットエンコーディング(ダミー変数)が必要なのかを説明せよ. "
   ]
  },
  {
   "cell_type": "markdown",
   "metadata": {},
   "source": [
    "### (3) iris のデータをワンホットエンコーディングせよ.\n",
    "\t課題を簡単にするため，以下のスクリプトを実行した後の iris.df をワンホット エンコーディングせよ.\n",
    "\tなお，どの列(項目)がワンホットエンコーディングされた かを明示すること.\n"
   ]
  },
  {
   "cell_type": "code",
   "execution_count": 4,
   "metadata": {},
   "outputs": [
    {
     "ename": "SyntaxError",
     "evalue": "invalid syntax (<ipython-input-4-6bc50ea24c99>, line 3)",
     "output_type": "error",
     "traceback": [
      "\u001b[0;36m  File \u001b[0;32m\"<ipython-input-4-6bc50ea24c99>\"\u001b[0;36m, line \u001b[0;32m3\u001b[0m\n\u001b[0;31m    iris.df.columns = iris.feature_names new_col = iris.target_names[ iris.target ] iris.df[“target”] = new_col\u001b[0m\n\u001b[0m                                               ^\u001b[0m\n\u001b[0;31mSyntaxError\u001b[0m\u001b[0;31m:\u001b[0m invalid syntax\n"
     ]
    }
   ],
   "source": [
    "iris = load_iris()\n",
    "iris.df = pd.DataFrame(iris.data) \n",
    "iris.df.columns = iris.feature_names new_col = iris.target_names[ iris.target ] iris.df[“target”] = new_col\n"
   ]
  },
  {
   "cell_type": "markdown",
   "metadata": {},
   "source": [
    "### (4) 交差検証とは何かを説明せよ.\n",
    "\tその際，\n"
   ]
  },
  {
   "cell_type": "markdown",
   "metadata": {},
   "source": [
    "#### a)交差検証が必要な理由，\n"
   ]
  },
  {
   "cell_type": "markdown",
   "metadata": {},
   "source": [
    "#### b)あるデータの 3-fold cross-validation の行い方\n",
    " \tなお，b)については「訓練セット」「テストセット」という用語を用いて説明する事"
   ]
  },
  {
   "cell_type": "markdown",
   "metadata": {},
   "source": [
    "#### c) 交差検証の欠点(デメリット)について含む事.\n",
    "\n"
   ]
  },
  {
   "cell_type": "markdown",
   "metadata": {},
   "source": []
  },
  {
   "cell_type": "markdown",
   "metadata": {},
   "source": []
  },
  {
   "cell_type": "markdown",
   "metadata": {},
   "source": []
  },
  {
   "cell_type": "markdown",
   "metadata": {},
   "source": []
  }
 ],
 "metadata": {
  "kernelspec": {
   "display_name": "Python 3",
   "language": "python",
   "name": "python3"
  },
  "language_info": {
   "codemirror_mode": {
    "name": "ipython",
    "version": 3
   },
   "file_extension": ".py",
   "mimetype": "text/x-python",
   "name": "python",
   "nbconvert_exporter": "python",
   "pygments_lexer": "ipython3",
   "version": "3.7.0"
  }
 },
 "nbformat": 4,
 "nbformat_minor": 2
}
